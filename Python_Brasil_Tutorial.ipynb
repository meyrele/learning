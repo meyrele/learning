{
  "nbformat": 4,
  "nbformat_minor": 0,
  "metadata": {
    "colab": {
      "name": "Python Brasil Tutorial",
      "provenance": [],
      "include_colab_link": true
    },
    "kernelspec": {
      "name": "python3",
      "display_name": "Python 3"
    },
    "language_info": {
      "name": "python"
    }
  },
  "cells": [
    {
      "cell_type": "markdown",
      "metadata": {
        "id": "view-in-github",
        "colab_type": "text"
      },
      "source": [
        "<a href=\"https://colab.research.google.com/github/meyrele/learning/blob/master/Python_Brasil_Tutorial.ipynb\" target=\"_parent\"><img src=\"https://colab.research.google.com/assets/colab-badge.svg\" alt=\"Open In Colab\"/></a>"
      ]
    },
    {
      "cell_type": "code",
      "metadata": {
        "id": "8yYsxY1-S-Kw",
        "colab": {
          "base_uri": "https://localhost:8080/"
        },
        "outputId": "303e9e54-b9a3-4c43-a5f0-71cc04534bc4"
      },
      "source": [
        "!pip install basedosdados"
      ],
      "execution_count": null,
      "outputs": [
        {
          "output_type": "stream",
          "name": "stdout",
          "text": [
            "Requirement already satisfied: basedosdados in /usr/local/lib/python3.7/dist-packages (1.5.7)\n",
            "Requirement already satisfied: google-cloud-bigquery-storage==1.1.0 in /usr/local/lib/python3.7/dist-packages (from basedosdados) (1.1.0)\n",
            "Requirement already satisfied: tqdm==4.50.2 in /usr/local/lib/python3.7/dist-packages (from basedosdados) (4.50.2)\n",
            "Requirement already satisfied: click==7.1.2 in /usr/local/lib/python3.7/dist-packages (from basedosdados) (7.1.2)\n",
            "Requirement already satisfied: Jinja2==2.11.2 in /usr/local/lib/python3.7/dist-packages (from basedosdados) (2.11.2)\n",
            "Requirement already satisfied: pyaml==20.4.0 in /usr/local/lib/python3.7/dist-packages (from basedosdados) (20.4.0)\n",
            "Requirement already satisfied: ruamel.yaml==0.17.4 in /usr/local/lib/python3.7/dist-packages (from basedosdados) (0.17.4)\n",
            "Requirement already satisfied: pandas-gbq==0.13.2 in /usr/local/lib/python3.7/dist-packages (from basedosdados) (0.13.2)\n",
            "Requirement already satisfied: tomlkit==0.7.0 in /usr/local/lib/python3.7/dist-packages (from basedosdados) (0.7.0)\n",
            "Requirement already satisfied: google-cloud-bigquery==1.28.0 in /usr/local/lib/python3.7/dist-packages (from basedosdados) (1.28.0)\n",
            "Requirement already satisfied: pandas==1.2.4 in /usr/local/lib/python3.7/dist-packages (from basedosdados) (1.2.4)\n",
            "Requirement already satisfied: google-cloud-storage==1.31.2 in /usr/local/lib/python3.7/dist-packages (from basedosdados) (1.31.2)\n",
            "Requirement already satisfied: google-resumable-media<2.0dev,>=0.6.0 in /usr/local/lib/python3.7/dist-packages (from google-cloud-bigquery==1.28.0->basedosdados) (1.3.3)\n",
            "Requirement already satisfied: google-api-core<2.0dev,>=1.21.0 in /usr/local/lib/python3.7/dist-packages (from google-cloud-bigquery==1.28.0->basedosdados) (1.26.3)\n",
            "Requirement already satisfied: google-cloud-core<2.0dev,>=1.4.1 in /usr/local/lib/python3.7/dist-packages (from google-cloud-bigquery==1.28.0->basedosdados) (1.7.2)\n",
            "Requirement already satisfied: six<2.0.0dev,>=1.13.0 in /usr/local/lib/python3.7/dist-packages (from google-cloud-bigquery==1.28.0->basedosdados) (1.15.0)\n",
            "Requirement already satisfied: google-auth<2.0dev,>=1.11.0 in /usr/local/lib/python3.7/dist-packages (from google-cloud-storage==1.31.2->basedosdados) (1.35.0)\n",
            "Requirement already satisfied: requests<3.0.0dev,>=2.18.0 in /usr/local/lib/python3.7/dist-packages (from google-cloud-storage==1.31.2->basedosdados) (2.23.0)\n",
            "Requirement already satisfied: MarkupSafe>=0.23 in /usr/local/lib/python3.7/dist-packages (from Jinja2==2.11.2->basedosdados) (2.0.1)\n",
            "Requirement already satisfied: numpy>=1.16.5 in /usr/local/lib/python3.7/dist-packages (from pandas==1.2.4->basedosdados) (1.19.5)\n",
            "Requirement already satisfied: python-dateutil>=2.7.3 in /usr/local/lib/python3.7/dist-packages (from pandas==1.2.4->basedosdados) (2.8.2)\n",
            "Requirement already satisfied: pytz>=2017.3 in /usr/local/lib/python3.7/dist-packages (from pandas==1.2.4->basedosdados) (2018.9)\n",
            "Requirement already satisfied: setuptools in /usr/local/lib/python3.7/dist-packages (from pandas-gbq==0.13.2->basedosdados) (57.4.0)\n",
            "Requirement already satisfied: pydata-google-auth in /usr/local/lib/python3.7/dist-packages (from pandas-gbq==0.13.2->basedosdados) (1.2.0)\n",
            "Requirement already satisfied: google-auth-oauthlib in /usr/local/lib/python3.7/dist-packages (from pandas-gbq==0.13.2->basedosdados) (0.4.6)\n",
            "Requirement already satisfied: PyYAML in /usr/local/lib/python3.7/dist-packages (from pyaml==20.4.0->basedosdados) (3.13)\n",
            "Requirement already satisfied: ruamel.yaml.clib>=0.1.2 in /usr/local/lib/python3.7/dist-packages (from ruamel.yaml==0.17.4->basedosdados) (0.2.6)\n",
            "Requirement already satisfied: protobuf>=3.12.0 in /usr/local/lib/python3.7/dist-packages (from google-api-core<2.0dev,>=1.21.0->google-cloud-bigquery==1.28.0->basedosdados) (3.17.3)\n",
            "Requirement already satisfied: googleapis-common-protos<2.0dev,>=1.6.0 in /usr/local/lib/python3.7/dist-packages (from google-api-core<2.0dev,>=1.21.0->google-cloud-bigquery==1.28.0->basedosdados) (1.53.0)\n",
            "Requirement already satisfied: packaging>=14.3 in /usr/local/lib/python3.7/dist-packages (from google-api-core<2.0dev,>=1.21.0->google-cloud-bigquery==1.28.0->basedosdados) (21.0)\n",
            "Requirement already satisfied: grpcio<2.0dev,>=1.29.0 in /usr/local/lib/python3.7/dist-packages (from google-api-core<2.0dev,>=1.21.0->google-cloud-bigquery==1.28.0->basedosdados) (1.41.0)\n",
            "Requirement already satisfied: rsa<5,>=3.1.4 in /usr/local/lib/python3.7/dist-packages (from google-auth<2.0dev,>=1.11.0->google-cloud-storage==1.31.2->basedosdados) (4.7.2)\n",
            "Requirement already satisfied: pyasn1-modules>=0.2.1 in /usr/local/lib/python3.7/dist-packages (from google-auth<2.0dev,>=1.11.0->google-cloud-storage==1.31.2->basedosdados) (0.2.8)\n",
            "Requirement already satisfied: cachetools<5.0,>=2.0.0 in /usr/local/lib/python3.7/dist-packages (from google-auth<2.0dev,>=1.11.0->google-cloud-storage==1.31.2->basedosdados) (4.2.4)\n",
            "Requirement already satisfied: google-crc32c<2.0dev,>=1.0 in /usr/local/lib/python3.7/dist-packages (from google-resumable-media<2.0dev,>=0.6.0->google-cloud-bigquery==1.28.0->basedosdados) (1.3.0)\n",
            "Requirement already satisfied: pyparsing>=2.0.2 in /usr/local/lib/python3.7/dist-packages (from packaging>=14.3->google-api-core<2.0dev,>=1.21.0->google-cloud-bigquery==1.28.0->basedosdados) (2.4.7)\n",
            "Requirement already satisfied: pyasn1<0.5.0,>=0.4.6 in /usr/local/lib/python3.7/dist-packages (from pyasn1-modules>=0.2.1->google-auth<2.0dev,>=1.11.0->google-cloud-storage==1.31.2->basedosdados) (0.4.8)\n",
            "Requirement already satisfied: idna<3,>=2.5 in /usr/local/lib/python3.7/dist-packages (from requests<3.0.0dev,>=2.18.0->google-cloud-storage==1.31.2->basedosdados) (2.10)\n",
            "Requirement already satisfied: chardet<4,>=3.0.2 in /usr/local/lib/python3.7/dist-packages (from requests<3.0.0dev,>=2.18.0->google-cloud-storage==1.31.2->basedosdados) (3.0.4)\n",
            "Requirement already satisfied: urllib3!=1.25.0,!=1.25.1,<1.26,>=1.21.1 in /usr/local/lib/python3.7/dist-packages (from requests<3.0.0dev,>=2.18.0->google-cloud-storage==1.31.2->basedosdados) (1.24.3)\n",
            "Requirement already satisfied: certifi>=2017.4.17 in /usr/local/lib/python3.7/dist-packages (from requests<3.0.0dev,>=2.18.0->google-cloud-storage==1.31.2->basedosdados) (2021.5.30)\n",
            "Requirement already satisfied: requests-oauthlib>=0.7.0 in /usr/local/lib/python3.7/dist-packages (from google-auth-oauthlib->pandas-gbq==0.13.2->basedosdados) (1.3.0)\n",
            "Requirement already satisfied: oauthlib>=3.0.0 in /usr/local/lib/python3.7/dist-packages (from requests-oauthlib>=0.7.0->google-auth-oauthlib->pandas-gbq==0.13.2->basedosdados) (3.1.1)\n"
          ]
        }
      ]
    },
    {
      "cell_type": "code",
      "metadata": {
        "id": "L-K4uYsWTSct"
      },
      "source": [
        "import basedosdados as bd"
      ],
      "execution_count": null,
      "outputs": []
    },
    {
      "cell_type": "code",
      "metadata": {
        "colab": {
          "base_uri": "https://localhost:8080/"
        },
        "id": "ismFjVz3TgnO",
        "outputId": "66951e85-b03a-443b-a7fe-70640f6de049"
      },
      "source": [
        "bd.list_datasets(filter_by='caged')"
      ],
      "execution_count": null,
      "outputs": [
        {
          "output_type": "stream",
          "name": "stdout",
          "text": [
            "\n",
            "dataset_id: \n",
            "\tbr_me_caged \n",
            "-----------------------------------------------------------------------------------------------\n",
            "\n"
          ]
        }
      ]
    },
    {
      "cell_type": "code",
      "metadata": {
        "colab": {
          "base_uri": "https://localhost:8080/"
        },
        "id": "CmJEU4-bTtmm",
        "outputId": "bf14cea4-382b-4b37-acc0-38ce06501a85"
      },
      "source": [
        "bd.list_dataset_tables('br_me_caged')"
      ],
      "execution_count": null,
      "outputs": [
        {
          "output_type": "stream",
          "name": "stdout",
          "text": [
            "\n",
            "table_id: \n",
            "\tdicionario \n",
            "-----------------------------------------------------------------------------------------------\n",
            "table_id: \n",
            "\tmicrodados_antigos \n",
            "-----------------------------------------------------------------------------------------------\n",
            "table_id: \n",
            "\tmicrodados_antigos_ajustes \n",
            "-----------------------------------------------------------------------------------------------\n",
            "table_id: \n",
            "\tmicrodados_estabelecimentos \n",
            "-----------------------------------------------------------------------------------------------\n",
            "table_id: \n",
            "\tmicrodados_movimentacoes \n",
            "-----------------------------------------------------------------------------------------------\n",
            "\n"
          ]
        }
      ]
    },
    {
      "cell_type": "code",
      "metadata": {
        "colab": {
          "base_uri": "https://localhost:8080/"
        },
        "id": "4qzfLtqRUm-G",
        "outputId": "c870f195-884a-4992-bc83-02bc3ca3e668"
      },
      "source": [
        "bd.get_table_description('br_me_caged', 'microdados_movimentacoes')"
      ],
      "execution_count": null,
      "outputs": [
        {
          "output_type": "stream",
          "name": "stdout",
          "text": [
            "Microdados públicos do CAGED\n",
            "\n",
            "\n",
            "Para saber mais acesse:\n",
            "Website: https://basedosdados.org/dataset/br-me-caged\n",
            "Github: https://github.com/basedosdados/mais/tree/master/bases/br_me_caged\n",
            "\n",
            "Ajude a manter o projeto :)\n",
            "Apoia-se: https://apoia.se/basedosdados\n",
            "\n",
            "Publicado por\n",
            "-------------\n",
            "Nome: Diego\n",
            "Código: https://github.com/basedosdados/mais/tree/master/bases/br_me_caged/code\n",
            "Website: ftp://ftp.mtps.gov.br/pdet/microdados/CAGED/Tratado por\n",
            "-----------\n",
            "Nome: Diego\n",
            "Código: https://github.com/basedosdados/mais/tree/master/bases/br_me_caged/code\n",
            "\n",
            "Partições (Filtre a tabela por essas colunas para economizar dinheiro e tempo)\n",
            "---------\n",
            "- ano\n",
            "- mes\n",
            "- sigla_uf\n",
            "\n",
            "Nível da Observação (i.e. a granularidade da linha)\n",
            "-------------------\n",
            "- movimentação\n",
            "\n",
            "Cobertura Temporal\n",
            "------------------\n",
            "- 2020\n",
            "- 2021\n",
            "\n",
            "Cobertura Espacial\n",
            "------------------\n",
            "- brasil\n",
            "\n",
            "Tratamento\n",
            "----------\n",
            "Unificação de todos os anos e meses, padronização do nomes de colunas, erros de valores, etc.\n",
            "\n",
            "Frequencia de Atualização\n",
            "-------------------------\n",
            "1 mes\n",
            "\n",
            "\n",
            "\n"
          ]
        }
      ]
    },
    {
      "cell_type": "code",
      "metadata": {
        "colab": {
          "base_uri": "https://localhost:8080/"
        },
        "id": "JezaHi6mU1W5",
        "outputId": "af52b53e-669e-4e2c-a826-9ea1042610a5"
      },
      "source": [
        "df = bd.read_table('br_me_caged', 'microdados_movimentacoes', limit=1000, \n",
        "              billing_project_id='python-brasil')"
      ],
      "execution_count": null,
      "outputs": [
        {
          "output_type": "stream",
          "name": "stderr",
          "text": [
            "Downloading: 100%|██████████| 1000/1000 [00:01<00:00, 682.23rows/s]\n"
          ]
        }
      ]
    },
    {
      "cell_type": "code",
      "metadata": {
        "colab": {
          "base_uri": "https://localhost:8080/",
          "height": 226
        },
        "id": "l0XuSpbBVBEl",
        "outputId": "b7a8267d-2ace-447b-f3f6-b48d9e0a4708"
      },
      "source": [
        "df.head()"
      ],
      "execution_count": null,
      "outputs": [
        {
          "output_type": "execute_result",
          "data": {
            "text/html": [
              "<div>\n",
              "<style scoped>\n",
              "    .dataframe tbody tr th:only-of-type {\n",
              "        vertical-align: middle;\n",
              "    }\n",
              "\n",
              "    .dataframe tbody tr th {\n",
              "        vertical-align: top;\n",
              "    }\n",
              "\n",
              "    .dataframe thead th {\n",
              "        text-align: right;\n",
              "    }\n",
              "</style>\n",
              "<table border=\"1\" class=\"dataframe\">\n",
              "  <thead>\n",
              "    <tr style=\"text-align: right;\">\n",
              "      <th></th>\n",
              "      <th>ano</th>\n",
              "      <th>mes</th>\n",
              "      <th>sigla_uf</th>\n",
              "      <th>id_municipio</th>\n",
              "      <th>id_municipio_6</th>\n",
              "      <th>cnae_2</th>\n",
              "      <th>cnae_2_subclasse</th>\n",
              "      <th>cnae_2_secao</th>\n",
              "      <th>cbo_2002</th>\n",
              "      <th>saldo_movimentacao</th>\n",
              "      <th>categoria</th>\n",
              "      <th>grau_instrucao</th>\n",
              "      <th>idade</th>\n",
              "      <th>horas_contratuais</th>\n",
              "      <th>raca_cor</th>\n",
              "      <th>sexo</th>\n",
              "      <th>tipo_empregador</th>\n",
              "      <th>tipo_estabelecimento</th>\n",
              "      <th>tipo_movimentacao</th>\n",
              "      <th>tipo_deficiencia</th>\n",
              "      <th>indicador_trabalho_intermitente</th>\n",
              "      <th>indicador_trabalho_parcial</th>\n",
              "      <th>salario_mensal</th>\n",
              "      <th>tamanho_estabelecimento_janeiro</th>\n",
              "      <th>indicador_aprendiz</th>\n",
              "      <th>fonte</th>\n",
              "    </tr>\n",
              "  </thead>\n",
              "  <tbody>\n",
              "    <tr>\n",
              "      <th>0</th>\n",
              "      <td>2020</td>\n",
              "      <td>1</td>\n",
              "      <td>AC</td>\n",
              "      <td>1200609</td>\n",
              "      <td>120060</td>\n",
              "      <td>78205</td>\n",
              "      <td>7820500</td>\n",
              "      <td>N</td>\n",
              "      <td>514320</td>\n",
              "      <td>-1</td>\n",
              "      <td>999</td>\n",
              "      <td>7</td>\n",
              "      <td>39</td>\n",
              "      <td>44</td>\n",
              "      <td>3</td>\n",
              "      <td>3</td>\n",
              "      <td>0</td>\n",
              "      <td>1</td>\n",
              "      <td>31</td>\n",
              "      <td>0</td>\n",
              "      <td>0</td>\n",
              "      <td>0</td>\n",
              "      <td>0.0</td>\n",
              "      <td>8</td>\n",
              "      <td>0</td>\n",
              "      <td>1</td>\n",
              "    </tr>\n",
              "    <tr>\n",
              "      <th>1</th>\n",
              "      <td>2020</td>\n",
              "      <td>1</td>\n",
              "      <td>AC</td>\n",
              "      <td>1200401</td>\n",
              "      <td>120040</td>\n",
              "      <td>78205</td>\n",
              "      <td>7820500</td>\n",
              "      <td>N</td>\n",
              "      <td>334115</td>\n",
              "      <td>-1</td>\n",
              "      <td>101</td>\n",
              "      <td>5</td>\n",
              "      <td>30</td>\n",
              "      <td>44</td>\n",
              "      <td>6</td>\n",
              "      <td>3</td>\n",
              "      <td>0</td>\n",
              "      <td>1</td>\n",
              "      <td>31</td>\n",
              "      <td>0</td>\n",
              "      <td>0</td>\n",
              "      <td>0</td>\n",
              "      <td>1114.0</td>\n",
              "      <td>10</td>\n",
              "      <td>0</td>\n",
              "      <td>1</td>\n",
              "    </tr>\n",
              "    <tr>\n",
              "      <th>2</th>\n",
              "      <td>2020</td>\n",
              "      <td>1</td>\n",
              "      <td>AC</td>\n",
              "      <td>1200401</td>\n",
              "      <td>120040</td>\n",
              "      <td>49302</td>\n",
              "      <td>4930201</td>\n",
              "      <td>H</td>\n",
              "      <td>783225</td>\n",
              "      <td>-1</td>\n",
              "      <td>101</td>\n",
              "      <td>7</td>\n",
              "      <td>29</td>\n",
              "      <td>44</td>\n",
              "      <td>6</td>\n",
              "      <td>1</td>\n",
              "      <td>0</td>\n",
              "      <td>1</td>\n",
              "      <td>31</td>\n",
              "      <td>0</td>\n",
              "      <td>0</td>\n",
              "      <td>0</td>\n",
              "      <td>998.0</td>\n",
              "      <td>6</td>\n",
              "      <td>0</td>\n",
              "      <td>1</td>\n",
              "    </tr>\n",
              "    <tr>\n",
              "      <th>3</th>\n",
              "      <td>2020</td>\n",
              "      <td>1</td>\n",
              "      <td>AC</td>\n",
              "      <td>1200609</td>\n",
              "      <td>120060</td>\n",
              "      <td>78205</td>\n",
              "      <td>7820500</td>\n",
              "      <td>N</td>\n",
              "      <td>514320</td>\n",
              "      <td>-1</td>\n",
              "      <td>999</td>\n",
              "      <td>7</td>\n",
              "      <td>23</td>\n",
              "      <td>44</td>\n",
              "      <td>6</td>\n",
              "      <td>1</td>\n",
              "      <td>0</td>\n",
              "      <td>1</td>\n",
              "      <td>31</td>\n",
              "      <td>0</td>\n",
              "      <td>0</td>\n",
              "      <td>0</td>\n",
              "      <td>0.0</td>\n",
              "      <td>8</td>\n",
              "      <td>0</td>\n",
              "      <td>1</td>\n",
              "    </tr>\n",
              "    <tr>\n",
              "      <th>4</th>\n",
              "      <td>2020</td>\n",
              "      <td>1</td>\n",
              "      <td>AC</td>\n",
              "      <td>1200203</td>\n",
              "      <td>120020</td>\n",
              "      <td>45111</td>\n",
              "      <td>4511101</td>\n",
              "      <td>G</td>\n",
              "      <td>521115</td>\n",
              "      <td>1</td>\n",
              "      <td>101</td>\n",
              "      <td>7</td>\n",
              "      <td>29</td>\n",
              "      <td>44</td>\n",
              "      <td>3</td>\n",
              "      <td>1</td>\n",
              "      <td>0</td>\n",
              "      <td>1</td>\n",
              "      <td>20</td>\n",
              "      <td>0</td>\n",
              "      <td>0</td>\n",
              "      <td>0</td>\n",
              "      <td>0.0</td>\n",
              "      <td>3</td>\n",
              "      <td>0</td>\n",
              "      <td>1</td>\n",
              "    </tr>\n",
              "  </tbody>\n",
              "</table>\n",
              "</div>"
            ],
            "text/plain": [
              "    ano  mes sigla_uf  ... tamanho_estabelecimento_janeiro indicador_aprendiz fonte\n",
              "0  2020    1       AC  ...                               8                  0     1\n",
              "1  2020    1       AC  ...                              10                  0     1\n",
              "2  2020    1       AC  ...                               6                  0     1\n",
              "3  2020    1       AC  ...                               8                  0     1\n",
              "4  2020    1       AC  ...                               3                  0     1\n",
              "\n",
              "[5 rows x 26 columns]"
            ]
          },
          "metadata": {},
          "execution_count": 4
        }
      ]
    },
    {
      "cell_type": "code",
      "metadata": {
        "id": "AGNs9U9TV-EB",
        "colab": {
          "base_uri": "https://localhost:8080/"
        },
        "outputId": "c73c18c0-9bba-40c4-9024-de9f382c72ea"
      },
      "source": [
        "df = bd.read_sql(\n",
        "    'SELECT * FROM `basedosdados.br_me_caged.microdados_antigos` LIMIT 1000',\n",
        "     billing_project_id='python-brasil')"
      ],
      "execution_count": null,
      "outputs": [
        {
          "output_type": "stream",
          "name": "stderr",
          "text": [
            "Downloading: 100%|██████████| 1000/1000 [00:04<00:00, 231.44rows/s]\n"
          ]
        }
      ]
    },
    {
      "cell_type": "code",
      "metadata": {
        "colab": {
          "base_uri": "https://localhost:8080/",
          "height": 226
        },
        "id": "1qLGyy7uWkuh",
        "outputId": "2bcdb32d-26cc-454d-92fc-a36385c0fe0a"
      },
      "source": [
        "df.head()"
      ],
      "execution_count": null,
      "outputs": [
        {
          "output_type": "execute_result",
          "data": {
            "text/html": [
              "<div>\n",
              "<style scoped>\n",
              "    .dataframe tbody tr th:only-of-type {\n",
              "        vertical-align: middle;\n",
              "    }\n",
              "\n",
              "    .dataframe tbody tr th {\n",
              "        vertical-align: top;\n",
              "    }\n",
              "\n",
              "    .dataframe thead th {\n",
              "        text-align: right;\n",
              "    }\n",
              "</style>\n",
              "<table border=\"1\" class=\"dataframe\">\n",
              "  <thead>\n",
              "    <tr style=\"text-align: right;\">\n",
              "      <th></th>\n",
              "      <th>ano</th>\n",
              "      <th>mes</th>\n",
              "      <th>sigla_uf</th>\n",
              "      <th>id_municipio</th>\n",
              "      <th>id_municipio_6</th>\n",
              "      <th>admitidos_desligados</th>\n",
              "      <th>tipo_estabelecimento</th>\n",
              "      <th>tipo_movimentacao_desagregado</th>\n",
              "      <th>faixa_emprego_inicio_janeiro</th>\n",
              "      <th>tempo_emprego</th>\n",
              "      <th>quantidade_horas_contratadas</th>\n",
              "      <th>salario_mensal</th>\n",
              "      <th>saldo_movimentacao</th>\n",
              "      <th>indicador_aprendiz</th>\n",
              "      <th>indicador_trabalho_intermitente</th>\n",
              "      <th>indicador_trabalho_parcial</th>\n",
              "      <th>indicador_portador_deficiencia</th>\n",
              "      <th>tipo_deficiencia</th>\n",
              "      <th>cbo_2002</th>\n",
              "      <th>cnae_1</th>\n",
              "      <th>cnae_2</th>\n",
              "      <th>cnae_2_subclasse</th>\n",
              "      <th>grau_instrucao</th>\n",
              "      <th>idade</th>\n",
              "      <th>sexo</th>\n",
              "      <th>raca_cor</th>\n",
              "      <th>subsetor_ibge</th>\n",
              "      <th>bairros_sp</th>\n",
              "      <th>bairros_fortaleza</th>\n",
              "      <th>bairros_rj</th>\n",
              "      <th>distritos_sp</th>\n",
              "      <th>regiao_administrativas_df</th>\n",
              "      <th>regiao_administrativas_rj</th>\n",
              "      <th>regiao_administrativas_sp</th>\n",
              "      <th>regiao_corede</th>\n",
              "      <th>regiao_corede_04</th>\n",
              "      <th>regiao_gov_sp</th>\n",
              "      <th>regiao_senac_pr</th>\n",
              "      <th>regiao_senai_pr</th>\n",
              "      <th>regiao_senai_sp</th>\n",
              "      <th>subregiao_senai_pr</th>\n",
              "    </tr>\n",
              "  </thead>\n",
              "  <tbody>\n",
              "    <tr>\n",
              "      <th>0</th>\n",
              "      <td>2007</td>\n",
              "      <td>1</td>\n",
              "      <td>AM</td>\n",
              "      <td>1302603</td>\n",
              "      <td>130260</td>\n",
              "      <td>01</td>\n",
              "      <td>01</td>\n",
              "      <td>01</td>\n",
              "      <td>04</td>\n",
              "      <td>0.0</td>\n",
              "      <td>30</td>\n",
              "      <td>1070.0</td>\n",
              "      <td>1</td>\n",
              "      <td>0</td>\n",
              "      <td>None</td>\n",
              "      <td>None</td>\n",
              "      <td>0</td>\n",
              "      <td>None</td>\n",
              "      <td>413225</td>\n",
              "      <td>000-1</td>\n",
              "      <td>64221</td>\n",
              "      <td>00000-1</td>\n",
              "      <td>09</td>\n",
              "      <td>45</td>\n",
              "      <td>02</td>\n",
              "      <td>08</td>\n",
              "      <td>18</td>\n",
              "      <td>0000</td>\n",
              "      <td>0000</td>\n",
              "      <td>0000</td>\n",
              "      <td>0000</td>\n",
              "      <td>0000</td>\n",
              "      <td>None</td>\n",
              "      <td>999</td>\n",
              "      <td>None</td>\n",
              "      <td>99</td>\n",
              "      <td>999</td>\n",
              "      <td>99</td>\n",
              "      <td>None</td>\n",
              "      <td>999</td>\n",
              "      <td>99</td>\n",
              "    </tr>\n",
              "    <tr>\n",
              "      <th>1</th>\n",
              "      <td>2007</td>\n",
              "      <td>1</td>\n",
              "      <td>AM</td>\n",
              "      <td>1302603</td>\n",
              "      <td>130260</td>\n",
              "      <td>02</td>\n",
              "      <td>01</td>\n",
              "      <td>06</td>\n",
              "      <td>04</td>\n",
              "      <td>16.0</td>\n",
              "      <td>30</td>\n",
              "      <td>1070.0</td>\n",
              "      <td>-1</td>\n",
              "      <td>0</td>\n",
              "      <td>None</td>\n",
              "      <td>None</td>\n",
              "      <td>0</td>\n",
              "      <td>None</td>\n",
              "      <td>413225</td>\n",
              "      <td>000-1</td>\n",
              "      <td>64221</td>\n",
              "      <td>00000-1</td>\n",
              "      <td>09</td>\n",
              "      <td>33</td>\n",
              "      <td>01</td>\n",
              "      <td>08</td>\n",
              "      <td>18</td>\n",
              "      <td>0000</td>\n",
              "      <td>0000</td>\n",
              "      <td>0000</td>\n",
              "      <td>0000</td>\n",
              "      <td>0000</td>\n",
              "      <td>None</td>\n",
              "      <td>999</td>\n",
              "      <td>None</td>\n",
              "      <td>99</td>\n",
              "      <td>999</td>\n",
              "      <td>99</td>\n",
              "      <td>None</td>\n",
              "      <td>999</td>\n",
              "      <td>99</td>\n",
              "    </tr>\n",
              "    <tr>\n",
              "      <th>2</th>\n",
              "      <td>2007</td>\n",
              "      <td>1</td>\n",
              "      <td>AM</td>\n",
              "      <td>1302603</td>\n",
              "      <td>130260</td>\n",
              "      <td>02</td>\n",
              "      <td>01</td>\n",
              "      <td>06</td>\n",
              "      <td>02</td>\n",
              "      <td>15.0</td>\n",
              "      <td>30</td>\n",
              "      <td>1070.0</td>\n",
              "      <td>-1</td>\n",
              "      <td>0</td>\n",
              "      <td>None</td>\n",
              "      <td>None</td>\n",
              "      <td>0</td>\n",
              "      <td>None</td>\n",
              "      <td>413225</td>\n",
              "      <td>000-1</td>\n",
              "      <td>64221</td>\n",
              "      <td>00000-1</td>\n",
              "      <td>09</td>\n",
              "      <td>35</td>\n",
              "      <td>02</td>\n",
              "      <td>08</td>\n",
              "      <td>18</td>\n",
              "      <td>0000</td>\n",
              "      <td>0000</td>\n",
              "      <td>0000</td>\n",
              "      <td>0000</td>\n",
              "      <td>0000</td>\n",
              "      <td>None</td>\n",
              "      <td>999</td>\n",
              "      <td>None</td>\n",
              "      <td>99</td>\n",
              "      <td>999</td>\n",
              "      <td>99</td>\n",
              "      <td>None</td>\n",
              "      <td>999</td>\n",
              "      <td>99</td>\n",
              "    </tr>\n",
              "    <tr>\n",
              "      <th>3</th>\n",
              "      <td>2007</td>\n",
              "      <td>1</td>\n",
              "      <td>AM</td>\n",
              "      <td>1302603</td>\n",
              "      <td>130260</td>\n",
              "      <td>02</td>\n",
              "      <td>01</td>\n",
              "      <td>05</td>\n",
              "      <td>03</td>\n",
              "      <td>7.0</td>\n",
              "      <td>40</td>\n",
              "      <td>1798.0</td>\n",
              "      <td>-1</td>\n",
              "      <td>0</td>\n",
              "      <td>None</td>\n",
              "      <td>None</td>\n",
              "      <td>0</td>\n",
              "      <td>None</td>\n",
              "      <td>413225</td>\n",
              "      <td>000-1</td>\n",
              "      <td>64221</td>\n",
              "      <td>00000-1</td>\n",
              "      <td>09</td>\n",
              "      <td>45</td>\n",
              "      <td>01</td>\n",
              "      <td>02</td>\n",
              "      <td>18</td>\n",
              "      <td>0000</td>\n",
              "      <td>0000</td>\n",
              "      <td>0000</td>\n",
              "      <td>0000</td>\n",
              "      <td>0000</td>\n",
              "      <td>None</td>\n",
              "      <td>999</td>\n",
              "      <td>None</td>\n",
              "      <td>99</td>\n",
              "      <td>999</td>\n",
              "      <td>99</td>\n",
              "      <td>None</td>\n",
              "      <td>999</td>\n",
              "      <td>99</td>\n",
              "    </tr>\n",
              "    <tr>\n",
              "      <th>4</th>\n",
              "      <td>2007</td>\n",
              "      <td>1</td>\n",
              "      <td>AM</td>\n",
              "      <td>1302603</td>\n",
              "      <td>130260</td>\n",
              "      <td>01</td>\n",
              "      <td>01</td>\n",
              "      <td>02</td>\n",
              "      <td>04</td>\n",
              "      <td>0.0</td>\n",
              "      <td>44</td>\n",
              "      <td>580.0</td>\n",
              "      <td>1</td>\n",
              "      <td>0</td>\n",
              "      <td>None</td>\n",
              "      <td>None</td>\n",
              "      <td>0</td>\n",
              "      <td>None</td>\n",
              "      <td>411010</td>\n",
              "      <td>000-1</td>\n",
              "      <td>45307</td>\n",
              "      <td>00000-1</td>\n",
              "      <td>07</td>\n",
              "      <td>25</td>\n",
              "      <td>02</td>\n",
              "      <td>08</td>\n",
              "      <td>16</td>\n",
              "      <td>0000</td>\n",
              "      <td>0000</td>\n",
              "      <td>0000</td>\n",
              "      <td>0000</td>\n",
              "      <td>0000</td>\n",
              "      <td>None</td>\n",
              "      <td>999</td>\n",
              "      <td>None</td>\n",
              "      <td>99</td>\n",
              "      <td>999</td>\n",
              "      <td>99</td>\n",
              "      <td>None</td>\n",
              "      <td>999</td>\n",
              "      <td>99</td>\n",
              "    </tr>\n",
              "  </tbody>\n",
              "</table>\n",
              "</div>"
            ],
            "text/plain": [
              "    ano  mes sigla_uf  ... regiao_senai_pr regiao_senai_sp subregiao_senai_pr\n",
              "0  2007    1       AM  ...            None             999                 99\n",
              "1  2007    1       AM  ...            None             999                 99\n",
              "2  2007    1       AM  ...            None             999                 99\n",
              "3  2007    1       AM  ...            None             999                 99\n",
              "4  2007    1       AM  ...            None             999                 99\n",
              "\n",
              "[5 rows x 41 columns]"
            ]
          },
          "metadata": {},
          "execution_count": 6
        }
      ]
    },
    {
      "cell_type": "code",
      "metadata": {
        "colab": {
          "base_uri": "https://localhost:8080/"
        },
        "id": "ZG9BGsLbWnaD",
        "outputId": "5f162d20-8000-4912-9dad-68c8f9196658"
      },
      "source": [
        "df = bd.read_sql(\n",
        "    \"\"\"\n",
        "    SELECT ano, sigla_uf, COUNT(*) n_escolas\n",
        "    FROM `basedosdados.br_inep_censo_escolar.escola` \n",
        "    GROUP BY ano, sigla_uf\n",
        "    ORDER BY ano, sigla_uf\n",
        "    \"\"\",\n",
        "    billing_project_id='python-brasil'\n",
        ")"
      ],
      "execution_count": null,
      "outputs": [
        {
          "output_type": "stream",
          "name": "stderr",
          "text": [
            "Downloading: 100%|██████████| 324/324 [00:01<00:00, 260.61rows/s]\n"
          ]
        }
      ]
    },
    {
      "cell_type": "code",
      "metadata": {
        "colab": {
          "base_uri": "https://localhost:8080/",
          "height": 297
        },
        "id": "YtsVc8jyZ2f2",
        "outputId": "4520fcbf-1127-41ec-c89b-be42e412125d"
      },
      "source": [
        "df.query('sigla_uf == \"RJ\"').plot(x='ano', y='n_escolas')"
      ],
      "execution_count": null,
      "outputs": [
        {
          "output_type": "execute_result",
          "data": {
            "text/plain": [
              "<matplotlib.axes._subplots.AxesSubplot at 0x7f9f068f64d0>"
            ]
          },
          "metadata": {},
          "execution_count": 11
        },
        {
          "output_type": "display_data",
          "data": {
            "image/png": "[encoded data removed]",
            "text/plain": [
              "<Figure size 432x288 with 1 Axes>"
            ]
          },
          "metadata": {
            "needs_background": "light"
          }
        }
      ]
    },
    {
      "cell_type": "code",
      "metadata": {
        "id": "H7VGCFkAZ4YE"
      },
      "source": [
        "import plotly.express as px"
      ],
      "execution_count": null,
      "outputs": []
    },
    {
      "cell_type": "code",
      "metadata": {
        "colab": {
          "base_uri": "https://localhost:8080/",
          "height": 542
        },
        "id": "cuYK58CAbQ5b",
        "outputId": "9c9d7d35-767f-4d15-e54a-96c6ad3b7188"
      },
      "source": [
        "px.line(df, x='ano', y='n_escolas', color='sigla_uf')"
      ],
      "execution_count": null,
      "outputs": [
        {
          "output_type": "display_data",
          "data": {
            "text/html": [
              "<html>\n",
              "<head><meta charset=\"utf-8\" /></head>\n",
              "<body>\n",
              "    <div>\n",
              "            <script src=\"https://cdnjs.cloudflare.com/ajax/libs/mathjax/2.7.5/MathJax.js?config=TeX-AMS-MML_SVG\"></script><script type=\"text/javascript\">if (window.MathJax) {MathJax.Hub.Config({SVG: {font: \"STIX-Web\"}});}</script>\n",
              "                <script type=\"text/javascript\">window.PlotlyConfig = {MathJaxConfig: 'local'};</script>\n",
              "        <script src=\"https://cdn.plot.ly/plotly-latest.min.js\"></script>    \n",
              "            <div id=\"d296e8ad-684f-4e78-ad5b-8ce425533431\" class=\"plotly-graph-div\" style=\"height:525px; width:100%;\"></div>\n",
              "            <script type=\"text/javascript\">\n",
              "                \n",
              "                    window.PLOTLYENV=window.PLOTLYENV || {};\n",
              "                    \n",
              "                if (document.getElementById(\"d296e8ad-684f-4e78-ad5b-8ce425533431\")) {\n",
              "                    Plotly.newPlot(\n",
              "                        'd296e8ad-684f-4e78-ad5b-8ce425533431',\n",
              "                        [{\"hoverlabel\": {\"namelength\": 0}, \"hovertemplate\": \"sigla_uf=AC<br>ano=%{x}<br>n_escolas=%{y}\", \"legendgroup\": \"sigla_uf=AC\", \"line\": {\"color\": \"#636efa\", \"dash\": \"solid\"}, \"mode\": \"lines\", \"name\": \"sigla_uf=AC\", \"showlegend\": true, \"type\": \"scatter\", \"x\": [2009, 2010, 2011, 2012, 2013, 2014, 2015, 2016, 2017, 2018, 2019, 2020], \"xaxis\": \"x\", \"y\": [2065, 2092, 2113, 2194, 2235, 2267, 2305, 2327, 2352, 2371, 1742, 1748], \"yaxis\": \"y\"}, {\"hoverlabel\": {\"namelength\": 0}, \"hovertemplate\": \"sigla_uf=AL<br>ano=%{x}<br>n_escolas=%{y}\", \"legendgroup\": \"sigla_uf=AL\", \"line\": {\"color\": \"#EF553B\", \"dash\": \"solid\"}, \"mode\": \"lines\", \"name\": \"sigla_uf=AL\", \"showlegend\": true, \"type\": \"scatter\", \"x\": [2009, 2010, 2011, 2012, 2013, 2014, 2015, 2016, 2017, 2018, 2019, 2020], \"xaxis\": \"x\", \"y\": [4143, 4286, 4146, 4165, 4296, 4254, 4224, 4255, 4351, 4457, 3574, 3463], \"yaxis\": \"y\"}, {\"hoverlabel\": {\"namelength\": 0}, \"hovertemplate\": \"sigla_uf=AM<br>ano=%{x}<br>n_escolas=%{y}\", \"legendgroup\": \"sigla_uf=AM\", \"line\": {\"color\": \"#00cc96\", \"dash\": \"solid\"}, \"mode\": \"lines\", \"name\": \"sigla_uf=AM\", \"showlegend\": true, \"type\": \"scatter\", \"x\": [2009, 2010, 2011, 2012, 2013, 2014, 2015, 2016, 2017, 2018, 2019, 2020], \"xaxis\": \"x\", \"y\": [6341, 6551, 6694, 6865, 6975, 7087, 7142, 7282, 7358, 7322, 6225, 6163], \"yaxis\": \"y\"}, {\"hoverlabel\": {\"namelength\": 0}, \"hovertemplate\": \"sigla_uf=AP<br>ano=%{x}<br>n_escolas=%{y}\", \"legendgroup\": \"sigla_uf=AP\", \"line\": {\"color\": \"#ab63fa\", \"dash\": \"solid\"}, \"mode\": \"lines\", \"name\": \"sigla_uf=AP\", \"showlegend\": true, \"type\": \"scatter\", \"x\": [2009, 2010, 2011, 2012, 2013, 2014, 2015, 2016, 2017, 2018, 2019, 2020], \"xaxis\": \"x\", \"y\": [921, 932, 867, 949, 975, 990, 969, 986, 1002, 1024, 920, 918], \"yaxis\": \"y\"}, {\"hoverlabel\": {\"namelength\": 0}, \"hovertemplate\": \"sigla_uf=BA<br>ano=%{x}<br>n_escolas=%{y}\", \"legendgroup\": \"sigla_uf=BA\", \"line\": {\"color\": \"#FFA15A\", \"dash\": \"solid\"}, \"mode\": \"lines\", \"name\": \"sigla_uf=BA\", \"showlegend\": true, \"type\": \"scatter\", \"x\": [2009, 2010, 2011, 2012, 2013, 2014, 2015, 2016, 2017, 2018, 2019, 2020], \"xaxis\": \"x\", \"y\": [28585, 28899, 26893, 27575, 28266, 28940, 27629, 29459, 29770, 30312, 22481, 21924], \"yaxis\": \"y\"}, {\"hoverlabel\": {\"namelength\": 0}, \"hovertemplate\": \"sigla_uf=CE<br>ano=%{x}<br>n_escolas=%{y}\", \"legendgroup\": \"sigla_uf=CE\", \"line\": {\"color\": \"#19d3f3\", \"dash\": \"solid\"}, \"mode\": \"lines\", \"name\": \"sigla_uf=CE\", \"showlegend\": true, \"type\": \"scatter\", \"x\": [2009, 2010, 2011, 2012, 2013, 2014, 2015, 2016, 2017, 2018, 2019, 2020], \"xaxis\": \"x\", \"y\": [15215, 15371, 15355, 15626, 15735, 15847, 15970, 15977, 16187, 16276, 11378, 10841], \"yaxis\": \"y\"}, {\"hoverlabel\": {\"namelength\": 0}, \"hovertemplate\": \"sigla_uf=DF<br>ano=%{x}<br>n_escolas=%{y}\", \"legendgroup\": \"sigla_uf=DF\", \"line\": {\"color\": \"#FF6692\", \"dash\": \"solid\"}, \"mode\": \"lines\", \"name\": \"sigla_uf=DF\", \"showlegend\": true, \"type\": \"scatter\", \"x\": [2009, 2010, 2011, 2012, 2013, 2014, 2015, 2016, 2017, 2018, 2019, 2020], \"xaxis\": \"x\", \"y\": [1200, 1251, 1261, 1268, 1294, 1338, 1386, 1406, 1450, 1482, 1383, 1372], \"yaxis\": \"y\"}, {\"hoverlabel\": {\"namelength\": 0}, \"hovertemplate\": \"sigla_uf=ES<br>ano=%{x}<br>n_escolas=%{y}\", \"legendgroup\": \"sigla_uf=ES\", \"line\": {\"color\": \"#B6E880\", \"dash\": \"solid\"}, \"mode\": \"lines\", \"name\": \"sigla_uf=ES\", \"showlegend\": true, \"type\": \"scatter\", \"x\": [2009, 2010, 2011, 2012, 2013, 2014, 2015, 2016, 2017, 2018, 2019, 2020], \"xaxis\": \"x\", \"y\": [5056, 5106, 5145, 5180, 5224, 5270, 5297, 5340, 5359, 5380, 4086, 4041], \"yaxis\": \"y\"}, {\"hoverlabel\": {\"namelength\": 0}, \"hovertemplate\": \"sigla_uf=GO<br>ano=%{x}<br>n_escolas=%{y}\", \"legendgroup\": \"sigla_uf=GO\", \"line\": {\"color\": \"#FF97FF\", \"dash\": \"solid\"}, \"mode\": \"lines\", \"name\": \"sigla_uf=GO\", \"showlegend\": true, \"type\": \"scatter\", \"x\": [2009, 2010, 2011, 2012, 2013, 2014, 2015, 2016, 2017, 2018, 2019, 2020], \"xaxis\": \"x\", \"y\": [5626, 5736, 5519, 5583, 5723, 5809, 5613, 5973, 6011, 6242, 5128, 5140], \"yaxis\": \"y\"}, {\"hoverlabel\": {\"namelength\": 0}, \"hovertemplate\": \"sigla_uf=MA<br>ano=%{x}<br>n_escolas=%{y}\", \"legendgroup\": \"sigla_uf=MA\", \"line\": {\"color\": \"#FECB52\", \"dash\": \"solid\"}, \"mode\": \"lines\", \"name\": \"sigla_uf=MA\", \"showlegend\": true, \"type\": \"scatter\", \"x\": [2009, 2010, 2011, 2012, 2013, 2014, 2015, 2016, 2017, 2018, 2019, 2020], \"xaxis\": \"x\", \"y\": [16401, 16660, 16793, 17000, 17216, 17367, 17512, 17649, 17760, 17917, 14719, 14294], \"yaxis\": \"y\"}, {\"hoverlabel\": {\"namelength\": 0}, \"hovertemplate\": \"sigla_uf=MG<br>ano=%{x}<br>n_escolas=%{y}\", \"legendgroup\": \"sigla_uf=MG\", \"line\": {\"color\": \"#636efa\", \"dash\": \"solid\"}, \"mode\": \"lines\", \"name\": \"sigla_uf=MG\", \"showlegend\": true, \"type\": \"scatter\", \"x\": [2009, 2010, 2011, 2012, 2013, 2014, 2015, 2016, 2017, 2018, 2019, 2020], \"xaxis\": \"x\", \"y\": [28246, 28534, 28663, 28885, 29184, 29540, 29646, 30217, 30441, 30673, 24668, 24106], \"yaxis\": \"y\"}, {\"hoverlabel\": {\"namelength\": 0}, \"hovertemplate\": \"sigla_uf=MS<br>ano=%{x}<br>n_escolas=%{y}\", \"legendgroup\": \"sigla_uf=MS\", \"line\": {\"color\": \"#EF553B\", \"dash\": \"solid\"}, \"mode\": \"lines\", \"name\": \"sigla_uf=MS\", \"showlegend\": true, \"type\": \"scatter\", \"x\": [2009, 2010, 2011, 2012, 2013, 2014, 2015, 2016, 2017, 2018, 2019, 2020], \"xaxis\": \"x\", \"y\": [1756, 1781, 1819, 1849, 1881, 1939, 1988, 2029, 2065, 2091, 1878, 1886], \"yaxis\": \"y\"}, {\"hoverlabel\": {\"namelength\": 0}, \"hovertemplate\": \"sigla_uf=MT<br>ano=%{x}<br>n_escolas=%{y}\", \"legendgroup\": \"sigla_uf=MT\", \"line\": {\"color\": \"#00cc96\", \"dash\": \"solid\"}, \"mode\": \"lines\", \"name\": \"sigla_uf=MT\", \"showlegend\": true, \"type\": \"scatter\", \"x\": [2009, 2010, 2011, 2012, 2013, 2014, 2015, 2016, 2017, 2018, 2019, 2020], \"xaxis\": \"x\", \"y\": [3441, 3529, 3503, 3577, 3646, 3710, 3763, 3806, 3869, 3904, 3107, 3082], \"yaxis\": \"y\"}, {\"hoverlabel\": {\"namelength\": 0}, \"hovertemplate\": \"sigla_uf=PA<br>ano=%{x}<br>n_escolas=%{y}\", \"legendgroup\": \"sigla_uf=PA\", \"line\": {\"color\": \"#ab63fa\", \"dash\": \"solid\"}, \"mode\": \"lines\", \"name\": \"sigla_uf=PA\", \"showlegend\": true, \"type\": \"scatter\", \"x\": [2009, 2010, 2011, 2012, 2013, 2014, 2015, 2016, 2017, 2018, 2019, 2020], \"xaxis\": \"x\", \"y\": [14864, 15072, 15122, 15445, 15718, 15864, 15949, 16135, 16262, 16474, 12931, 12656], \"yaxis\": \"y\"}, {\"hoverlabel\": {\"namelength\": 0}, \"hovertemplate\": \"sigla_uf=PB<br>ano=%{x}<br>n_escolas=%{y}\", \"legendgroup\": \"sigla_uf=PB\", \"line\": {\"color\": \"#FFA15A\", \"dash\": \"solid\"}, \"mode\": \"lines\", \"name\": \"sigla_uf=PB\", \"showlegend\": true, \"type\": \"scatter\", \"x\": [2009, 2010, 2011, 2012, 2013, 2014, 2015, 2016, 2017, 2018, 2019, 2020], \"xaxis\": \"x\", \"y\": [8341, 8422, 8202, 8332, 8503, 8384, 8352, 8524, 8513, 8406, 6508, 5777], \"yaxis\": \"y\"}, {\"hoverlabel\": {\"namelength\": 0}, \"hovertemplate\": \"sigla_uf=PE<br>ano=%{x}<br>n_escolas=%{y}\", \"legendgroup\": \"sigla_uf=PE\", \"line\": {\"color\": \"#19d3f3\", \"dash\": \"solid\"}, \"mode\": \"lines\", \"name\": \"sigla_uf=PE\", \"showlegend\": true, \"type\": \"scatter\", \"x\": [2009, 2010, 2011, 2012, 2013, 2014, 2015, 2016, 2017, 2018, 2019, 2020], \"xaxis\": \"x\", \"y\": [13807, 13948, 13562, 13761, 14129, 14242, 13920, 14386, 14760, 14917, 11329, 11015], \"yaxis\": \"y\"}, {\"hoverlabel\": {\"namelength\": 0}, \"hovertemplate\": \"sigla_uf=PI<br>ano=%{x}<br>n_escolas=%{y}\", \"legendgroup\": \"sigla_uf=PI\", \"line\": {\"color\": \"#FF6692\", \"dash\": \"solid\"}, \"mode\": \"lines\", \"name\": \"sigla_uf=PI\", \"showlegend\": true, \"type\": \"scatter\", \"x\": [2009, 2010, 2011, 2012, 2013, 2014, 2015, 2016, 2017, 2018, 2019, 2020], \"xaxis\": \"x\", \"y\": [9376, 9440, 9358, 9306, 9452, 9510, 9108, 9633, 9487, 9709, 6929, 6704], \"yaxis\": \"y\"}, {\"hoverlabel\": {\"namelength\": 0}, \"hovertemplate\": \"sigla_uf=PR<br>ano=%{x}<br>n_escolas=%{y}\", \"legendgroup\": \"sigla_uf=PR\", \"line\": {\"color\": \"#B6E880\", \"dash\": \"solid\"}, \"mode\": \"lines\", \"name\": \"sigla_uf=PR\", \"showlegend\": true, \"type\": \"scatter\", \"x\": [2009, 2010, 2011, 2012, 2013, 2014, 2015, 2016, 2017, 2018, 2019, 2020], \"xaxis\": \"x\", \"y\": [10496, 10678, 10765, 11001, 11197, 11383, 11576, 11712, 11846, 11958, 10088, 10089], \"yaxis\": \"y\"}, {\"hoverlabel\": {\"namelength\": 0}, \"hovertemplate\": \"sigla_uf=RJ<br>ano=%{x}<br>n_escolas=%{y}\", \"legendgroup\": \"sigla_uf=RJ\", \"line\": {\"color\": \"#FF97FF\", \"dash\": \"solid\"}, \"mode\": \"lines\", \"name\": \"sigla_uf=RJ\", \"showlegend\": true, \"type\": \"scatter\", \"x\": [2009, 2010, 2011, 2012, 2013, 2014, 2015, 2016, 2017, 2018, 2019, 2020], \"xaxis\": \"x\", \"y\": [13455, 13748, 12879, 13218, 14483, 15090, 15279, 15543, 15670, 16101, 13369, 13472], \"yaxis\": \"y\"}, {\"hoverlabel\": {\"namelength\": 0}, \"hovertemplate\": \"sigla_uf=RN<br>ano=%{x}<br>n_escolas=%{y}\", \"legendgroup\": \"sigla_uf=RN\", \"line\": {\"color\": \"#FECB52\", \"dash\": \"solid\"}, \"mode\": \"lines\", \"name\": \"sigla_uf=RN\", \"showlegend\": true, \"type\": \"scatter\", \"x\": [2009, 2010, 2011, 2012, 2013, 2014, 2015, 2016, 2017, 2018, 2019, 2020], \"xaxis\": \"x\", \"y\": [5801, 5874, 5891, 5951, 6011, 6105, 6100, 6169, 6226, 6269, 5469, 5322], \"yaxis\": \"y\"}, {\"hoverlabel\": {\"namelength\": 0}, \"hovertemplate\": \"sigla_uf=RO<br>ano=%{x}<br>n_escolas=%{y}\", \"legendgroup\": \"sigla_uf=RO\", \"line\": {\"color\": \"#636efa\", \"dash\": \"solid\"}, \"mode\": \"lines\", \"name\": \"sigla_uf=RO\", \"showlegend\": true, \"type\": \"scatter\", \"x\": [2009, 2010, 2011, 2012, 2013, 2014, 2015, 2016, 2017, 2018, 2019, 2020], \"xaxis\": \"x\", \"y\": [2573, 2620, 2645, 2674, 2721, 2749, 2747, 2793, 2813, 2828, 1529, 1443], \"yaxis\": \"y\"}, {\"hoverlabel\": {\"namelength\": 0}, \"hovertemplate\": \"sigla_uf=RR<br>ano=%{x}<br>n_escolas=%{y}\", \"legendgroup\": \"sigla_uf=RR\", \"line\": {\"color\": \"#EF553B\", \"dash\": \"solid\"}, \"mode\": \"lines\", \"name\": \"sigla_uf=RR\", \"showlegend\": true, \"type\": \"scatter\", \"x\": [2009, 2010, 2011, 2012, 2013, 2014, 2015, 2016, 2017, 2018, 2019, 2020], \"xaxis\": \"x\", \"y\": [886, 928, 947, 990, 1023, 1046, 1066, 1097, 1118, 1116, 915, 919], \"yaxis\": \"y\"}, {\"hoverlabel\": {\"namelength\": 0}, \"hovertemplate\": \"sigla_uf=RS<br>ano=%{x}<br>n_escolas=%{y}\", \"legendgroup\": \"sigla_uf=RS\", \"line\": {\"color\": \"#00cc96\", \"dash\": \"solid\"}, \"mode\": \"lines\", \"name\": \"sigla_uf=RS\", \"showlegend\": true, \"type\": \"scatter\", \"x\": [2009, 2010, 2011, 2012, 2013, 2014, 2015, 2016, 2017, 2018, 2019, 2020], \"xaxis\": \"x\", \"y\": [12512, 12861, 13102, 13348, 13576, 13840, 14043, 14258, 14433, 14526, 11829, 11709], \"yaxis\": \"y\"}, {\"hoverlabel\": {\"namelength\": 0}, \"hovertemplate\": \"sigla_uf=SC<br>ano=%{x}<br>n_escolas=%{y}\", \"legendgroup\": \"sigla_uf=SC\", \"line\": {\"color\": \"#ab63fa\", \"dash\": \"solid\"}, \"mode\": \"lines\", \"name\": \"sigla_uf=SC\", \"showlegend\": true, \"type\": \"scatter\", \"x\": [2009, 2010, 2011, 2012, 2013, 2014, 2015, 2016, 2017, 2018, 2019, 2020], \"xaxis\": \"x\", \"y\": [7966, 8087, 8158, 8292, 8353, 8591, 8729, 8853, 8987, 9077, 7559, 7298], \"yaxis\": \"y\"}, {\"hoverlabel\": {\"namelength\": 0}, \"hovertemplate\": \"sigla_uf=SE<br>ano=%{x}<br>n_escolas=%{y}\", \"legendgroup\": \"sigla_uf=SE\", \"line\": {\"color\": \"#FFA15A\", \"dash\": \"solid\"}, \"mode\": \"lines\", \"name\": \"sigla_uf=SE\", \"showlegend\": true, \"type\": \"scatter\", \"x\": [2009, 2010, 2011, 2012, 2013, 2014, 2015, 2016, 2017, 2018, 2019, 2020], \"xaxis\": \"x\", \"y\": [2986, 3013, 2992, 3061, 3032, 3122, 3139, 3188, 3186, 3239, 2612, 2551], \"yaxis\": \"y\"}, {\"hoverlabel\": {\"namelength\": 0}, \"hovertemplate\": \"sigla_uf=SP<br>ano=%{x}<br>n_escolas=%{y}\", \"legendgroup\": \"sigla_uf=SP\", \"line\": {\"color\": \"#19d3f3\", \"dash\": \"solid\"}, \"mode\": \"lines\", \"name\": \"sigla_uf=SP\", \"showlegend\": true, \"type\": \"scatter\", \"x\": [2009, 2010, 2011, 2012, 2013, 2014, 2015, 2016, 2017, 2018, 2019, 2020], \"xaxis\": \"x\", \"y\": [30233, 31236, 32303, 33290, 34072, 34873, 36219, 37026, 37724, 38576, 33498, 33715], \"yaxis\": \"y\"}, {\"hoverlabel\": {\"namelength\": 0}, \"hovertemplate\": \"sigla_uf=TO<br>ano=%{x}<br>n_escolas=%{y}\", \"legendgroup\": \"sigla_uf=TO\", \"line\": {\"color\": \"#FF6692\", \"dash\": \"solid\"}, \"mode\": \"lines\", \"name\": \"sigla_uf=TO\", \"showlegend\": true, \"type\": \"scatter\", \"x\": [2009, 2010, 2011, 2012, 2013, 2014, 2015, 2016, 2017, 2018, 2019, 2020], \"xaxis\": \"x\", \"y\": [3153, 3176, 3183, 3216, 3246, 3283, 3325, 3335, 3362, 3367, 2667, 2581], \"yaxis\": \"y\"}],\n",
              "                        {\"legend\": {\"tracegroupgap\": 0}, \"margin\": {\"t\": 60}, \"template\": {\"data\": {\"bar\": [{\"error_x\": {\"color\": \"#2a3f5f\"}, \"error_y\": {\"color\": \"#2a3f5f\"}, \"marker\": {\"line\": {\"color\": \"#E5ECF6\", \"width\": 0.5}}, \"type\": \"bar\"}], \"barpolar\": [{\"marker\": {\"line\": {\"color\": \"#E5ECF6\", \"width\": 0.5}}, \"type\": \"barpolar\"}], \"carpet\": [{\"aaxis\": {\"endlinecolor\": \"#2a3f5f\", \"gridcolor\": \"white\", \"linecolor\": \"white\", \"minorgridcolor\": \"white\", \"startlinecolor\": \"#2a3f5f\"}, \"baxis\": {\"endlinecolor\": \"#2a3f5f\", \"gridcolor\": \"white\", \"linecolor\": \"white\", \"minorgridcolor\": \"white\", \"startlinecolor\": \"#2a3f5f\"}, \"type\": \"carpet\"}], \"choropleth\": [{\"colorbar\": {\"outlinewidth\": 0, \"ticks\": \"\"}, \"type\": \"choropleth\"}], \"contour\": [{\"colorbar\": {\"outlinewidth\": 0, \"ticks\": \"\"}, \"colorscale\": [[0.0, \"#0d0887\"], [0.1111111111111111, \"#46039f\"], [0.2222222222222222, \"#7201a8\"], [0.3333333333333333, \"#9c179e\"], [0.4444444444444444, \"#bd3786\"], [0.5555555555555556, \"#d8576b\"], [0.6666666666666666, \"#ed7953\"], [0.7777777777777778, \"#fb9f3a\"], [0.8888888888888888, \"#fdca26\"], [1.0, \"#f0f921\"]], \"type\": \"contour\"}], \"contourcarpet\": [{\"colorbar\": {\"outlinewidth\": 0, \"ticks\": \"\"}, \"type\": \"contourcarpet\"}], \"heatmap\": [{\"colorbar\": {\"outlinewidth\": 0, \"ticks\": \"\"}, \"colorscale\": [[0.0, \"#0d0887\"], [0.1111111111111111, \"#46039f\"], [0.2222222222222222, \"#7201a8\"], [0.3333333333333333, \"#9c179e\"], [0.4444444444444444, \"#bd3786\"], [0.5555555555555556, \"#d8576b\"], [0.6666666666666666, \"#ed7953\"], [0.7777777777777778, \"#fb9f3a\"], [0.8888888888888888, \"#fdca26\"], [1.0, \"#f0f921\"]], \"type\": \"heatmap\"}], \"heatmapgl\": [{\"colorbar\": {\"outlinewidth\": 0, \"ticks\": \"\"}, \"colorscale\": [[0.0, \"#0d0887\"], [0.1111111111111111, \"#46039f\"], [0.2222222222222222, \"#7201a8\"], [0.3333333333333333, \"#9c179e\"], [0.4444444444444444, \"#bd3786\"], [0.5555555555555556, \"#d8576b\"], [0.6666666666666666, \"#ed7953\"], [0.7777777777777778, \"#fb9f3a\"], [0.8888888888888888, \"#fdca26\"], [1.0, \"#f0f921\"]], \"type\": \"heatmapgl\"}], \"histogram\": [{\"marker\": {\"colorbar\": {\"outlinewidth\": 0, \"ticks\": \"\"}}, \"type\": \"histogram\"}], \"histogram2d\": [{\"colorbar\": {\"outlinewidth\": 0, \"ticks\": \"\"}, \"colorscale\": [[0.0, \"#0d0887\"], [0.1111111111111111, \"#46039f\"], [0.2222222222222222, \"#7201a8\"], [0.3333333333333333, \"#9c179e\"], [0.4444444444444444, \"#bd3786\"], [0.5555555555555556, \"#d8576b\"], [0.6666666666666666, \"#ed7953\"], [0.7777777777777778, \"#fb9f3a\"], [0.8888888888888888, \"#fdca26\"], [1.0, \"#f0f921\"]], \"type\": \"histogram2d\"}], \"histogram2dcontour\": [{\"colorbar\": {\"outlinewidth\": 0, \"ticks\": \"\"}, \"colorscale\": [[0.0, \"#0d0887\"], [0.1111111111111111, \"#46039f\"], [0.2222222222222222, \"#7201a8\"], [0.3333333333333333, \"#9c179e\"], [0.4444444444444444, \"#bd3786\"], [0.5555555555555556, \"#d8576b\"], [0.6666666666666666, \"#ed7953\"], [0.7777777777777778, \"#fb9f3a\"], [0.8888888888888888, \"#fdca26\"], [1.0, \"#f0f921\"]], \"type\": \"histogram2dcontour\"}], \"mesh3d\": [{\"colorbar\": {\"outlinewidth\": 0, \"ticks\": \"\"}, \"type\": \"mesh3d\"}], \"parcoords\": [{\"line\": {\"colorbar\": {\"outlinewidth\": 0, \"ticks\": \"\"}}, \"type\": \"parcoords\"}], \"pie\": [{\"automargin\": true, \"type\": \"pie\"}], \"scatter\": [{\"marker\": {\"colorbar\": {\"outlinewidth\": 0, \"ticks\": \"\"}}, \"type\": \"scatter\"}], \"scatter3d\": [{\"line\": {\"colorbar\": {\"outlinewidth\": 0, \"ticks\": \"\"}}, \"marker\": {\"colorbar\": {\"outlinewidth\": 0, \"ticks\": \"\"}}, \"type\": \"scatter3d\"}], \"scattercarpet\": [{\"marker\": {\"colorbar\": {\"outlinewidth\": 0, \"ticks\": \"\"}}, \"type\": \"scattercarpet\"}], \"scattergeo\": [{\"marker\": {\"colorbar\": {\"outlinewidth\": 0, \"ticks\": \"\"}}, \"type\": \"scattergeo\"}], \"scattergl\": [{\"marker\": {\"colorbar\": {\"outlinewidth\": 0, \"ticks\": \"\"}}, \"type\": \"scattergl\"}], \"scattermapbox\": [{\"marker\": {\"colorbar\": {\"outlinewidth\": 0, \"ticks\": \"\"}}, \"type\": \"scattermapbox\"}], \"scatterpolar\": [{\"marker\": {\"colorbar\": {\"outlinewidth\": 0, \"ticks\": \"\"}}, \"type\": \"scatterpolar\"}], \"scatterpolargl\": [{\"marker\": {\"colorbar\": {\"outlinewidth\": 0, \"ticks\": \"\"}}, \"type\": \"scatterpolargl\"}], \"scatterternary\": [{\"marker\": {\"colorbar\": {\"outlinewidth\": 0, \"ticks\": \"\"}}, \"type\": \"scatterternary\"}], \"surface\": [{\"colorbar\": {\"outlinewidth\": 0, \"ticks\": \"\"}, \"colorscale\": [[0.0, \"#0d0887\"], [0.1111111111111111, \"#46039f\"], [0.2222222222222222, \"#7201a8\"], [0.3333333333333333, \"#9c179e\"], [0.4444444444444444, \"#bd3786\"], [0.5555555555555556, \"#d8576b\"], [0.6666666666666666, \"#ed7953\"], [0.7777777777777778, \"#fb9f3a\"], [0.8888888888888888, \"#fdca26\"], [1.0, \"#f0f921\"]], \"type\": \"surface\"}], \"table\": [{\"cells\": {\"fill\": {\"color\": \"#EBF0F8\"}, \"line\": {\"color\": \"white\"}}, \"header\": {\"fill\": {\"color\": \"#C8D4E3\"}, \"line\": {\"color\": \"white\"}}, \"type\": \"table\"}]}, \"layout\": {\"annotationdefaults\": {\"arrowcolor\": \"#2a3f5f\", \"arrowhead\": 0, \"arrowwidth\": 1}, \"coloraxis\": {\"colorbar\": {\"outlinewidth\": 0, \"ticks\": \"\"}}, \"colorscale\": {\"diverging\": [[0, \"#8e0152\"], [0.1, \"#c51b7d\"], [0.2, \"#de77ae\"], [0.3, \"#f1b6da\"], [0.4, \"#fde0ef\"], [0.5, \"#f7f7f7\"], [0.6, \"#e6f5d0\"], [0.7, \"#b8e186\"], [0.8, \"#7fbc41\"], [0.9, \"#4d9221\"], [1, \"#276419\"]], \"sequential\": [[0.0, \"#0d0887\"], [0.1111111111111111, \"#46039f\"], [0.2222222222222222, \"#7201a8\"], [0.3333333333333333, \"#9c179e\"], [0.4444444444444444, \"#bd3786\"], [0.5555555555555556, \"#d8576b\"], [0.6666666666666666, \"#ed7953\"], [0.7777777777777778, \"#fb9f3a\"], [0.8888888888888888, \"#fdca26\"], [1.0, \"#f0f921\"]], \"sequentialminus\": [[0.0, \"#0d0887\"], [0.1111111111111111, \"#46039f\"], [0.2222222222222222, \"#7201a8\"], [0.3333333333333333, \"#9c179e\"], [0.4444444444444444, \"#bd3786\"], [0.5555555555555556, \"#d8576b\"], [0.6666666666666666, \"#ed7953\"], [0.7777777777777778, \"#fb9f3a\"], [0.8888888888888888, \"#fdca26\"], [1.0, \"#f0f921\"]]}, \"colorway\": [\"#636efa\", \"#EF553B\", \"#00cc96\", \"#ab63fa\", \"#FFA15A\", \"#19d3f3\", \"#FF6692\", \"#B6E880\", \"#FF97FF\", \"#FECB52\"], \"font\": {\"color\": \"#2a3f5f\"}, \"geo\": {\"bgcolor\": \"white\", \"lakecolor\": \"white\", \"landcolor\": \"#E5ECF6\", \"showlakes\": true, \"showland\": true, \"subunitcolor\": \"white\"}, \"hoverlabel\": {\"align\": \"left\"}, \"hovermode\": \"closest\", \"mapbox\": {\"style\": \"light\"}, \"paper_bgcolor\": \"white\", \"plot_bgcolor\": \"#E5ECF6\", \"polar\": {\"angularaxis\": {\"gridcolor\": \"white\", \"linecolor\": \"white\", \"ticks\": \"\"}, \"bgcolor\": \"#E5ECF6\", \"radialaxis\": {\"gridcolor\": \"white\", \"linecolor\": \"white\", \"ticks\": \"\"}}, \"scene\": {\"xaxis\": {\"backgroundcolor\": \"#E5ECF6\", \"gridcolor\": \"white\", \"gridwidth\": 2, \"linecolor\": \"white\", \"showbackground\": true, \"ticks\": \"\", \"zerolinecolor\": \"white\"}, \"yaxis\": {\"backgroundcolor\": \"#E5ECF6\", \"gridcolor\": \"white\", \"gridwidth\": 2, \"linecolor\": \"white\", \"showbackground\": true, \"ticks\": \"\", \"zerolinecolor\": \"white\"}, \"zaxis\": {\"backgroundcolor\": \"#E5ECF6\", \"gridcolor\": \"white\", \"gridwidth\": 2, \"linecolor\": \"white\", \"showbackground\": true, \"ticks\": \"\", \"zerolinecolor\": \"white\"}}, \"shapedefaults\": {\"line\": {\"color\": \"#2a3f5f\"}}, \"ternary\": {\"aaxis\": {\"gridcolor\": \"white\", \"linecolor\": \"white\", \"ticks\": \"\"}, \"baxis\": {\"gridcolor\": \"white\", \"linecolor\": \"white\", \"ticks\": \"\"}, \"bgcolor\": \"#E5ECF6\", \"caxis\": {\"gridcolor\": \"white\", \"linecolor\": \"white\", \"ticks\": \"\"}}, \"title\": {\"x\": 0.05}, \"xaxis\": {\"automargin\": true, \"gridcolor\": \"white\", \"linecolor\": \"white\", \"ticks\": \"\", \"title\": {\"standoff\": 15}, \"zerolinecolor\": \"white\", \"zerolinewidth\": 2}, \"yaxis\": {\"automargin\": true, \"gridcolor\": \"white\", \"linecolor\": \"white\", \"ticks\": \"\", \"title\": {\"standoff\": 15}, \"zerolinecolor\": \"white\", \"zerolinewidth\": 2}}}, \"xaxis\": {\"anchor\": \"y\", \"domain\": [0.0, 1.0], \"title\": {\"text\": \"ano\"}}, \"yaxis\": {\"anchor\": \"x\", \"domain\": [0.0, 1.0], \"title\": {\"text\": \"n_escolas\"}}},\n",
              "                        {\"responsive\": true}\n",
              "                    ).then(function(){\n",
              "                            \n",
              "var gd = document.getElementById('d296e8ad-684f-4e78-ad5b-8ce425533431');\n",
              "var x = new MutationObserver(function (mutations, observer) {{\n",
              "        var display = window.getComputedStyle(gd).display;\n",
              "        if (!display || display === 'none') {{\n",
              "            console.log([gd, 'removed!']);\n",
              "            Plotly.purge(gd);\n",
              "            observer.disconnect();\n",
              "        }}\n",
              "}});\n",
              "\n",
              "// Listen for the removal of the full notebook cells\n",
              "var notebookContainer = gd.closest('#notebook-container');\n",
              "if (notebookContainer) {{\n",
              "    x.observe(notebookContainer, {childList: true});\n",
              "}}\n",
              "\n",
              "// Listen for the clearing of the current output cell\n",
              "var outputEl = gd.closest('.output');\n",
              "if (outputEl) {{\n",
              "    x.observe(outputEl, {childList: true});\n",
              "}}\n",
              "\n",
              "                        })\n",
              "                };\n",
              "                \n",
              "            </script>\n",
              "        </div>\n",
              "</body>\n",
              "</html>"
            ]
          },
          "metadata": {}
        }
      ]
    },
    {
      "cell_type": "code",
      "metadata": {
        "colab": {
          "base_uri": "https://localhost:8080/",
          "height": 441
        },
        "id": "Am58dNowbZTW",
        "outputId": "d44c1d6f-dbc9-4d54-9cfc-1060b7b1ba0e"
      },
      "source": [
        "bd.read_sql(\n",
        "    \"\"\"\n",
        "    SELECT ano, t2.mesorregiao, count(*) n_escolas\n",
        "    FROM `basedosdados.br_inep_censo_escolar.escola` t1\n",
        "    JOIN `basedosdados.br_bd_diretorios_brasil.municipio` t2\n",
        "    ON t1.id_municipio = t2.id_municipio\n",
        "    GROUP BY ano, t2.mesorregiao\n",
        "    \"\"\", \n",
        "    billing_project_id='python-brasil'\n",
        ")"
      ],
      "execution_count": null,
      "outputs": [
        {
          "output_type": "stream",
          "name": "stderr",
          "text": [
            "Downloading: 100%|██████████| 1644/1644 [00:01<00:00, 903.56rows/s]\n"
          ]
        },
        {
          "output_type": "execute_result",
          "data": {
            "text/html": [
              "<div>\n",
              "<style scoped>\n",
              "    .dataframe tbody tr th:only-of-type {\n",
              "        vertical-align: middle;\n",
              "    }\n",
              "\n",
              "    .dataframe tbody tr th {\n",
              "        vertical-align: top;\n",
              "    }\n",
              "\n",
              "    .dataframe thead th {\n",
              "        text-align: right;\n",
              "    }\n",
              "</style>\n",
              "<table border=\"1\" class=\"dataframe\">\n",
              "  <thead>\n",
              "    <tr style=\"text-align: right;\">\n",
              "      <th></th>\n",
              "      <th>ano</th>\n",
              "      <th>mesorregiao</th>\n",
              "      <th>n_escolas</th>\n",
              "    </tr>\n",
              "  </thead>\n",
              "  <tbody>\n",
              "    <tr>\n",
              "      <th>0</th>\n",
              "      <td>2013</td>\n",
              "      <td>Distrito Federal</td>\n",
              "      <td>1294</td>\n",
              "    </tr>\n",
              "    <tr>\n",
              "      <th>1</th>\n",
              "      <td>2015</td>\n",
              "      <td>Leste Rondoniense</td>\n",
              "      <td>1911</td>\n",
              "    </tr>\n",
              "    <tr>\n",
              "      <th>2</th>\n",
              "      <td>2011</td>\n",
              "      <td>Norte do Amapá</td>\n",
              "      <td>162</td>\n",
              "    </tr>\n",
              "    <tr>\n",
              "      <th>3</th>\n",
              "      <td>2012</td>\n",
              "      <td>Leste Sergipano</td>\n",
              "      <td>1646</td>\n",
              "    </tr>\n",
              "    <tr>\n",
              "      <th>4</th>\n",
              "      <td>2009</td>\n",
              "      <td>Centro-Sul Mato-grossense</td>\n",
              "      <td>1034</td>\n",
              "    </tr>\n",
              "    <tr>\n",
              "      <th>...</th>\n",
              "      <td>...</td>\n",
              "      <td>...</td>\n",
              "      <td>...</td>\n",
              "    </tr>\n",
              "    <tr>\n",
              "      <th>1639</th>\n",
              "      <td>2018</td>\n",
              "      <td>Vale do Rio Doce</td>\n",
              "      <td>3020</td>\n",
              "    </tr>\n",
              "    <tr>\n",
              "      <th>1640</th>\n",
              "      <td>2018</td>\n",
              "      <td>Norte de Minas</td>\n",
              "      <td>3882</td>\n",
              "    </tr>\n",
              "    <tr>\n",
              "      <th>1641</th>\n",
              "      <td>2014</td>\n",
              "      <td>Extremo Oeste Baiano</td>\n",
              "      <td>1512</td>\n",
              "    </tr>\n",
              "    <tr>\n",
              "      <th>1642</th>\n",
              "      <td>2016</td>\n",
              "      <td>Ribeirão Preto</td>\n",
              "      <td>2231</td>\n",
              "    </tr>\n",
              "    <tr>\n",
              "      <th>1643</th>\n",
              "      <td>2012</td>\n",
              "      <td>São José do Rio Preto</td>\n",
              "      <td>1358</td>\n",
              "    </tr>\n",
              "  </tbody>\n",
              "</table>\n",
              "<p>1644 rows × 3 columns</p>\n",
              "</div>"
            ],
            "text/plain": [
              "       ano                mesorregiao  n_escolas\n",
              "0     2013           Distrito Federal       1294\n",
              "1     2015          Leste Rondoniense       1911\n",
              "2     2011             Norte do Amapá        162\n",
              "3     2012            Leste Sergipano       1646\n",
              "4     2009  Centro-Sul Mato-grossense       1034\n",
              "...    ...                        ...        ...\n",
              "1639  2018           Vale do Rio Doce       3020\n",
              "1640  2018             Norte de Minas       3882\n",
              "1641  2014       Extremo Oeste Baiano       1512\n",
              "1642  2016             Ribeirão Preto       2231\n",
              "1643  2012      São José do Rio Preto       1358\n",
              "\n",
              "[1644 rows x 3 columns]"
            ]
          },
          "metadata": {},
          "execution_count": 18
        }
      ]
    },
    {
      "cell_type": "code",
      "metadata": {
        "colab": {
          "base_uri": "https://localhost:8080/"
        },
        "id": "_qsjHPK_dlxV",
        "outputId": "d7c19a92-8062-471c-efda-023402ac0723"
      },
      "source": [
        "remuneracao = bd.read_sql(\n",
        "    \"\"\"\n",
        "    SELECT \n",
        "    ano, sigla_uf,\n",
        "    AVG(valor_remun_media_nominal) media_remuneracao,\n",
        "    STDDEV_POP(valor_remun_media_nominal) std_remuneracao\n",
        "    FROM `basedosdados.br_me_rais.microdados_vinculos` \n",
        "    GROUP BY ano, sigla_uf\n",
        "    \"\"\",\n",
        "    billing_project_id='python-brasil'\n",
        ")"
      ],
      "execution_count": null,
      "outputs": [
        {
          "output_type": "stream",
          "name": "stderr",
          "text": [
            "Downloading: 100%|██████████| 954/954 [00:01<00:00, 589.44rows/s]\n"
          ]
        }
      ]
    },
    {
      "cell_type": "code",
      "metadata": {
        "colab": {
          "base_uri": "https://localhost:8080/",
          "height": 542
        },
        "id": "Y9u4GzL4gyIm",
        "outputId": "55c5f2c0-bf00-433c-9191-31e29caef701"
      },
      "source": [
        "px.line(remuneracao.dropna().sort_values(by='ano'),\n",
        "        x='ano', y='media_remuneracao', color='sigla_uf')"
      ],
      "execution_count": null,
      "outputs": [
        {
          "output_type": "display_data",
          "data": {
            "text/html": [
              "<html>\n",
              "<head><meta charset=\"utf-8\" /></head>\n",
              "<body>\n",
              "    <div>\n",
              "            <script src=\"https://cdnjs.cloudflare.com/ajax/libs/mathjax/2.7.5/MathJax.js?config=TeX-AMS-MML_SVG\"></script><script type=\"text/javascript\">if (window.MathJax) {MathJax.Hub.Config({SVG: {font: \"STIX-Web\"}});}</script>\n",
              "                <script type=\"text/javascript\">window.PlotlyConfig = {MathJaxConfig: 'local'};</script>\n",
              "        <script src=\"https://cdn.plot.ly/plotly-latest.min.js\"></script>    \n",
              "            <div id=\"e0152440-7e27-46ee-a8d4-e6b95089b8f1\" class=\"plotly-graph-div\" style=\"height:525px; width:100%;\"></div>\n",
              "            <script type=\"text/javascript\">\n",
              "                \n",
              "                    window.PLOTLYENV=window.PLOTLYENV || {};\n",
              "                    \n",
              "                if (document.getElementById(\"e0152440-7e27-46ee-a8d4-e6b95089b8f1\")) {\n",
              "                    Plotly.newPlot(\n",
              "                        'e0152440-7e27-46ee-a8d4-e6b95089b8f1',\n",
              "                        [{\"hoverlabel\": {\"namelength\": 0}, \"hovertemplate\": \"sigla_uf=AP<br>ano=%{x}<br>media_remuneracao=%{y}\", \"legendgroup\": \"sigla_uf=AP\", \"line\": {\"color\": \"#636efa\", \"dash\": \"solid\"}, \"mode\": \"lines\", \"name\": \"sigla_uf=AP\", \"showlegend\": true, \"type\": \"scatter\", \"x\": [1999, 2000, 2001, 2002, 2003, 2004, 2005, 2006, 2007, 2008, 2009, 2010, 2011, 2012, 2013, 2014, 2015, 2016, 2017, 2018, 2019], \"xaxis\": \"x\", \"y\": [769.3017096075886, 784.6416090255527, 811.6332097540063, 894.6526786728584, 1022.4934796996977, 1113.5092662560153, 1190.2031384289403, 1288.886469577445, 1338.2182625607734, 1493.6780042955959, 1620.715500548305, 1716.553429688315, 1806.7707456106962, 1975.8455612305531, 2154.407180132215, 2357.27613810863, 2610.1534579362315, 2478.7471272984617, 2394.1167672138713, 3306.8098187955443, 3412.546476649954], \"yaxis\": \"y\"}, {\"hoverlabel\": {\"namelength\": 0}, \"hovertemplate\": \"sigla_uf=RR<br>ano=%{x}<br>media_remuneracao=%{y}\", \"legendgroup\": \"sigla_uf=RR\", \"line\": {\"color\": \"#EF553B\", \"dash\": \"solid\"}, \"mode\": \"lines\", \"name\": \"sigla_uf=RR\", \"showlegend\": true, \"type\": \"scatter\", \"x\": [1999, 2000, 2001, 2002, 2003, 2004, 2005, 2006, 2007, 2008, 2009, 2010, 2011, 2012, 2013, 2014, 2015, 2016, 2017, 2018, 2019], \"xaxis\": \"x\", \"y\": [751.3087616570432, 764.0564423461889, 821.89000451709, 915.4924925053542, 951.7254696953574, 881.0645070631496, 1064.0963132869035, 1192.5108069552605, 1262.2763288194126, 1279.5830490838885, 1516.4847867323517, 1575.2165370882703, 1622.997288664781, 1738.6460344068983, 1882.93145456213, 2040.4137786446684, 2294.7274826258044, 2468.8075631018123, 2743.3460130779004, 2813.8023632737068, 2791.7233899640505], \"yaxis\": \"y\"}, {\"hoverlabel\": {\"namelength\": 0}, \"hovertemplate\": \"sigla_uf=SC<br>ano=%{x}<br>media_remuneracao=%{y}\", \"legendgroup\": \"sigla_uf=SC\", \"line\": {\"color\": \"#00cc96\", \"dash\": \"solid\"}, \"mode\": \"lines\", \"name\": \"sigla_uf=SC\", \"showlegend\": true, \"type\": \"scatter\", \"x\": [1999, 2000, 2001, 2002, 2003, 2004, 2005, 2006, 2007, 2008, 2009, 2010, 2011, 2012, 2013, 2014, 2015, 2016, 2017, 2018, 2019], \"xaxis\": \"x\", \"y\": [572.6649305758611, 578.9847161597083, 618.4544307692784, 673.8503412491337, 730.8715151417747, 803.3050724556896, 853.334787291297, 929.8468980398786, 978.4678950250969, 1053.3639875055112, 1142.847491365244, 1243.2976188425705, 1361.7979391480803, 1501.7736012076423, 1654.9416049906463, 1793.8227480780865, 1980.7835384364803, 2190.7440326287037, 2327.229679340686, 2389.073660590999, 2415.382082331601], \"yaxis\": \"y\"}, {\"hoverlabel\": {\"namelength\": 0}, \"hovertemplate\": \"sigla_uf=AL<br>ano=%{x}<br>media_remuneracao=%{y}\", \"legendgroup\": \"sigla_uf=AL\", \"line\": {\"color\": \"#ab63fa\", \"dash\": \"solid\"}, \"mode\": \"lines\", \"name\": \"sigla_uf=AL\", \"showlegend\": true, \"type\": \"scatter\", \"x\": [1999, 2000, 2001, 2002, 2003, 2004, 2005, 2006, 2007, 2008, 2009, 2010, 2011, 2012, 2013, 2014, 2015, 2016, 2017, 2018, 2019], \"xaxis\": \"x\", \"y\": [442.0764808018486, 448.46793748753316, 492.56093835485217, 523.1756427256178, 559.345849832187, 630.0766277034357, 694.9213900603211, 776.850386581351, 834.6116801521163, 914.0457320421134, 1015.9311718426882, 1109.2479026357055, 1180.216738755177, 1302.6612374596862, 1420.7023295423269, 1553.4835851157245, 1667.1665041696056, 1807.385650636129, 1954.3310886513418, 2032.1026477971109, 2060.2701296506057], \"yaxis\": \"y\"}, {\"hoverlabel\": {\"namelength\": 0}, \"hovertemplate\": \"sigla_uf=AM<br>ano=%{x}<br>media_remuneracao=%{y}\", \"legendgroup\": \"sigla_uf=AM\", \"line\": {\"color\": \"#FFA15A\", \"dash\": \"solid\"}, \"mode\": \"lines\", \"name\": \"sigla_uf=AM\", \"showlegend\": true, \"type\": \"scatter\", \"x\": [1999, 2000, 2001, 2002, 2003, 2004, 2005, 2006, 2007, 2008, 2009, 2010, 2011, 2012, 2013, 2014, 2015, 2016, 2017, 2018, 2019], \"xaxis\": \"x\", \"y\": [724.6479832011502, 731.2361151580767, 799.0160060316233, 868.077692422258, 937.2668496309448, 1000.3158383990403, 1063.0692663790232, 1136.161832697992, 1205.8406950131975, 1303.5023981009922, 1381.9389068751886, 1434.9048726907108, 1561.9634510865958, 1723.1368557853307, 1843.4967469662652, 1974.71386483702, 2141.044804889222, 2324.030682610205, 2470.361640097787, 2552.318794113438, 2668.766585081872], \"yaxis\": \"y\"}, {\"hoverlabel\": {\"namelength\": 0}, \"hovertemplate\": \"sigla_uf=RS<br>ano=%{x}<br>media_remuneracao=%{y}\", \"legendgroup\": \"sigla_uf=RS\", \"line\": {\"color\": \"#19d3f3\", \"dash\": \"solid\"}, \"mode\": \"lines\", \"name\": \"sigla_uf=RS\", \"showlegend\": true, \"type\": \"scatter\", \"x\": [1999, 2000, 2001, 2002, 2003, 2004, 2005, 2006, 2007, 2008, 2009, 2010, 2011, 2012, 2013, 2014, 2015, 2016, 2017, 2018, 2019], \"xaxis\": \"x\", \"y\": [622.6963512111032, 655.9940132110436, 717.0143400803025, 759.2478574117217, 845.1247739188005, 918.4296082208332, 983.2242384001695, 1060.1789371034156, 1110.9724726296356, 1179.750569180528, 1260.2750579305164, 1337.5607526829053, 1439.270039850888, 1592.7953692057981, 1764.8485914689506, 1900.2512196678863, 2094.605246265252, 2305.278433800662, 2469.7485113019043, 2537.8156764153105, 2551.1438055611566], \"yaxis\": \"y\"}, {\"hoverlabel\": {\"namelength\": 0}, \"hovertemplate\": \"sigla_uf=BA<br>ano=%{x}<br>media_remuneracao=%{y}\", \"legendgroup\": \"sigla_uf=BA\", \"line\": {\"color\": \"#FF6692\", \"dash\": \"solid\"}, \"mode\": \"lines\", \"name\": \"sigla_uf=BA\", \"showlegend\": true, \"type\": \"scatter\", \"x\": [1999, 2000, 2001, 2002, 2003, 2004, 2005, 2006, 2007, 2008, 2009, 2010, 2011, 2012, 2013, 2014, 2015, 2016, 2017, 2018, 2019], \"xaxis\": \"x\", \"y\": [531.1552502776925, 570.1609916007712, 618.0417375014904, 639.0687233316856, 704.0913542383909, 766.3241749660275, 837.6516874694711, 906.5808110341844, 975.5326187050538, 1062.4750453457584, 1168.3171861936312, 1248.5579336283656, 1353.6198325194127, 1489.4520771539205, 1612.4576616366476, 1735.2541414125808, 1891.2067918568239, 2062.945110983155, 2211.525826602236, 2251.8771893488697, 2255.6390176939253], \"yaxis\": \"y\"}, {\"hoverlabel\": {\"namelength\": 0}, \"hovertemplate\": \"sigla_uf=ES<br>ano=%{x}<br>media_remuneracao=%{y}\", \"legendgroup\": \"sigla_uf=ES\", \"line\": {\"color\": \"#B6E880\", \"dash\": \"solid\"}, \"mode\": \"lines\", \"name\": \"sigla_uf=ES\", \"showlegend\": true, \"type\": \"scatter\", \"x\": [1999, 2000, 2001, 2002, 2003, 2004, 2005, 2006, 2007, 2008, 2009, 2010, 2011, 2012, 2013, 2014, 2015, 2016, 2017, 2018, 2019], \"xaxis\": \"x\", \"y\": [563.8564166560304, 583.4686868221227, 602.9821675243095, 660.0527599747883, 721.122299400619, 766.4725767061815, 841.9393089730805, 925.0297787179919, 997.6141632118781, 1105.770341791294, 1198.538537500537, 1300.991794596166, 1391.226832536997, 1529.1029262604316, 1674.9961010922511, 1796.0603075943072, 1963.6836076565128, 2116.11651390955, 2254.985334275229, 2286.0647832974523, 2294.9493719599736], \"yaxis\": \"y\"}, {\"hoverlabel\": {\"namelength\": 0}, \"hovertemplate\": \"sigla_uf=RN<br>ano=%{x}<br>media_remuneracao=%{y}\", \"legendgroup\": \"sigla_uf=RN\", \"line\": {\"color\": \"#FF97FF\", \"dash\": \"solid\"}, \"mode\": \"lines\", \"name\": \"sigla_uf=RN\", \"showlegend\": true, \"type\": \"scatter\", \"x\": [1999, 2000, 2001, 2002, 2003, 2004, 2005, 2006, 2007, 2008, 2009, 2010, 2011, 2012, 2013, 2014, 2015, 2016, 2017, 2018, 2019], \"xaxis\": \"x\", \"y\": [433.00041616345874, 449.6350629761492, 515.773365936832, 535.8117759301513, 598.610107642562, 676.0829917897601, 728.7758656830106, 825.1260357711443, 885.1450108253342, 979.1599309908685, 1103.2818915657306, 1200.027871106883, 1307.7851888440853, 1448.9276071516103, 1576.8679940825996, 1684.7069260903193, 1835.0480781364079, 2007.2610783904474, 2163.251710028449, 2223.6334026742657, 2253.0037460064527], \"yaxis\": \"y\"}, {\"hoverlabel\": {\"namelength\": 0}, \"hovertemplate\": \"sigla_uf=GO<br>ano=%{x}<br>media_remuneracao=%{y}\", \"legendgroup\": \"sigla_uf=GO\", \"line\": {\"color\": \"#FECB52\", \"dash\": \"solid\"}, \"mode\": \"lines\", \"name\": \"sigla_uf=GO\", \"showlegend\": true, \"type\": \"scatter\", \"x\": [1999, 2000, 2001, 2002, 2003, 2004, 2005, 2006, 2007, 2008, 2009, 2010, 2011, 2012, 2013, 2014, 2015, 2016, 2017, 2018, 2019], \"xaxis\": \"x\", \"y\": [476.992295557932, 503.5441432715517, 558.7061206947047, 611.9711475567714, 679.4297621722691, 725.7962679895029, 789.9417465100746, 877.6524646130653, 950.5250546391864, 1022.0988924155705, 1123.5601493854317, 1214.9561202157208, 1322.8114491901106, 1487.6255440747225, 1607.1076443121433, 1742.8692947440727, 1929.861963496956, 2097.1835043852266, 2257.6313785798225, 2314.4375628492053, 2328.503204288768], \"yaxis\": \"y\"}, {\"hoverlabel\": {\"namelength\": 0}, \"hovertemplate\": \"sigla_uf=PA<br>ano=%{x}<br>media_remuneracao=%{y}\", \"legendgroup\": \"sigla_uf=PA\", \"line\": {\"color\": \"#636efa\", \"dash\": \"solid\"}, \"mode\": \"lines\", \"name\": \"sigla_uf=PA\", \"showlegend\": true, \"type\": \"scatter\", \"x\": [1999, 2000, 2001, 2002, 2003, 2004, 2005, 2006, 2007, 2008, 2009, 2010, 2011, 2012, 2013, 2014, 2015, 2016, 2017, 2018, 2019], \"xaxis\": \"x\", \"y\": [541.7516970254952, 560.1910681292203, 622.530127447574, 653.1321642811555, 705.0688294966286, 755.5976242877312, 805.580155351684, 909.8924999681235, 990.2164995715756, 1083.8151723966685, 1171.6349502856174, 1285.5834108275308, 1399.653577141003, 1579.755095035897, 1761.440566953062, 1915.588306441906, 2082.0916084611517, 2246.9896735726697, 2336.7050491028685, 2425.1250685006353, 2441.0908003435725], \"yaxis\": \"y\"}, {\"hoverlabel\": {\"namelength\": 0}, \"hovertemplate\": \"sigla_uf=PE<br>ano=%{x}<br>media_remuneracao=%{y}\", \"legendgroup\": \"sigla_uf=PE\", \"line\": {\"color\": \"#EF553B\", \"dash\": \"solid\"}, \"mode\": \"lines\", \"name\": \"sigla_uf=PE\", \"showlegend\": true, \"type\": \"scatter\", \"x\": [1999, 2000, 2001, 2002, 2003, 2004, 2005, 2006, 2007, 2008, 2009, 2010, 2011, 2012, 2013, 2014, 2015, 2016, 2017, 2018, 2019], \"xaxis\": \"x\", \"y\": [505.6625040400076, 558.67127880112, 574.9265063192128, 613.5197032518204, 650.5155108814606, 693.5824497396238, 751.1775689415357, 819.9205642979326, 889.4350309837379, 965.9137226083216, 1065.4697789184456, 1160.3634016327983, 1289.7644475505429, 1441.374447805103, 1583.4602883404616, 1712.0570651108044, 1822.6089854704803, 1973.170341743156, 2114.6782782272694, 2200.9502737761163, 2193.801104387335], \"yaxis\": \"y\"}, {\"hoverlabel\": {\"namelength\": 0}, \"hovertemplate\": \"sigla_uf=RO<br>ano=%{x}<br>media_remuneracao=%{y}\", \"legendgroup\": \"sigla_uf=RO\", \"line\": {\"color\": \"#00cc96\", \"dash\": \"solid\"}, \"mode\": \"lines\", \"name\": \"sigla_uf=RO\", \"showlegend\": true, \"type\": \"scatter\", \"x\": [1999, 2000, 2001, 2002, 2003, 2004, 2005, 2006, 2007, 2008, 2009, 2010, 2011, 2012, 2013, 2014, 2015, 2016, 2017, 2018, 2019], \"xaxis\": \"x\", \"y\": [588.6669351216195, 672.8975579857927, 647.3626337133356, 719.3099441672875, 768.0386384692075, 830.5187940125395, 894.4196487260494, 984.9529697788371, 1008.9149588660592, 1082.556875872226, 1212.825588032821, 1331.5741262096096, 1487.5093387117854, 1601.2752534496096, 1728.9802089025136, 1854.7105695047221, 1977.979425602539, 2124.9208091670175, 2254.0722212068567, 2287.5935994975407, 2293.872627489121], \"yaxis\": \"y\"}, {\"hoverlabel\": {\"namelength\": 0}, \"hovertemplate\": \"sigla_uf=CE<br>ano=%{x}<br>media_remuneracao=%{y}\", \"legendgroup\": \"sigla_uf=CE\", \"line\": {\"color\": \"#ab63fa\", \"dash\": \"solid\"}, \"mode\": \"lines\", \"name\": \"sigla_uf=CE\", \"showlegend\": true, \"type\": \"scatter\", \"x\": [1999, 2000, 2001, 2002, 2003, 2004, 2005, 2006, 2007, 2008, 2009, 2010, 2011, 2012, 2013, 2014, 2015, 2016, 2017, 2018, 2019], \"xaxis\": \"x\", \"y\": [448.00792712028425, 474.6102588248322, 508.21337196033255, 545.8753762779743, 586.6685453952153, 637.66467446365, 696.0416152478637, 766.6830701928758, 819.9566947535479, 887.2525982977093, 988.9434882819971, 1053.647409707412, 1150.0112271027906, 1288.6729196937636, 1428.541159262624, 1533.2925345282224, 1679.8358533525814, 1837.1371728529343, 1980.8028133471528, 2058.812787402509, 2096.285741726116], \"yaxis\": \"y\"}, {\"hoverlabel\": {\"namelength\": 0}, \"hovertemplate\": \"sigla_uf=MS<br>ano=%{x}<br>media_remuneracao=%{y}\", \"legendgroup\": \"sigla_uf=MS\", \"line\": {\"color\": \"#FFA15A\", \"dash\": \"solid\"}, \"mode\": \"lines\", \"name\": \"sigla_uf=MS\", \"showlegend\": true, \"type\": \"scatter\", \"x\": [1999, 2000, 2001, 2002, 2003, 2004, 2005, 2006, 2007, 2008, 2009, 2010, 2011, 2012, 2013, 2014, 2015, 2016, 2017, 2018, 2019], \"xaxis\": \"x\", \"y\": [507.58234329817026, 527.400677499988, 580.3385927665508, 632.2114474421469, 674.6202932190636, 755.3470918032642, 823.0537831860494, 938.8613858583798, 1024.258236822243, 1074.8298159692913, 1191.6649914990815, 1278.382294627762, 1387.6265404021462, 1528.6444058264235, 1687.839682498399, 1831.7395330841364, 2033.872676921512, 2227.0227123865075, 2380.0106247249973, 2463.073756245074, 2538.5104944762443], \"yaxis\": \"y\"}, {\"hoverlabel\": {\"namelength\": 0}, \"hovertemplate\": \"sigla_uf=PB<br>ano=%{x}<br>media_remuneracao=%{y}\", \"legendgroup\": \"sigla_uf=PB\", \"line\": {\"color\": \"#19d3f3\", \"dash\": \"solid\"}, \"mode\": \"lines\", \"name\": \"sigla_uf=PB\", \"showlegend\": true, \"type\": \"scatter\", \"x\": [1999, 2000, 2001, 2002, 2003, 2004, 2005, 2006, 2007, 2008, 2009, 2010, 2011, 2012, 2013, 2014, 2015, 2016, 2017, 2018, 2019], \"xaxis\": \"x\", \"y\": [433.6608063931452, 456.6096914965657, 490.30381054152645, 517.133265394032, 587.6173962557781, 646.5693263993419, 697.8709030414691, 767.5118642975718, 824.7094656669215, 882.5893061595816, 1020.868663967115, 1120.2147535364013, 1203.886826063213, 1308.0263260572667, 1409.5081052992773, 1532.86304587919, 1663.638828243243, 1832.0478203464502, 2030.2716678093818, 2043.160251161153, 2069.82665692522], \"yaxis\": \"y\"}, {\"hoverlabel\": {\"namelength\": 0}, \"hovertemplate\": \"sigla_uf=MA<br>ano=%{x}<br>media_remuneracao=%{y}\", \"legendgroup\": \"sigla_uf=MA\", \"line\": {\"color\": \"#FF6692\", \"dash\": \"solid\"}, \"mode\": \"lines\", \"name\": \"sigla_uf=MA\", \"showlegend\": true, \"type\": \"scatter\", \"x\": [1999, 2000, 2001, 2002, 2003, 2004, 2005, 2006, 2007, 2008, 2009, 2010, 2011, 2012, 2013, 2014, 2015, 2016, 2017, 2018, 2019], \"xaxis\": \"x\", \"y\": [464.5608729800863, 490.6222809428033, 535.739227680717, 579.6144955829822, 651.8400059762594, 752.3118256672844, 742.4801547289458, 812.4536818650217, 881.420198936003, 991.699551928167, 1103.4216956426246, 1209.615843260381, 1268.8327539088739, 1431.8301792724592, 1561.878549581021, 1673.1887191612298, 1827.0259528569122, 2014.9232597080434, 2136.3430522140216, 2217.2163297791903, 2239.297076760628], \"yaxis\": \"y\"}, {\"hoverlabel\": {\"namelength\": 0}, \"hovertemplate\": \"sigla_uf=TO<br>ano=%{x}<br>media_remuneracao=%{y}\", \"legendgroup\": \"sigla_uf=TO\", \"line\": {\"color\": \"#B6E880\", \"dash\": \"solid\"}, \"mode\": \"lines\", \"name\": \"sigla_uf=TO\", \"showlegend\": true, \"type\": \"scatter\", \"x\": [1999, 2000, 2001, 2002, 2003, 2004, 2005, 2006, 2007, 2008, 2009, 2010, 2011, 2012, 2013, 2014, 2015, 2016, 2017, 2018, 2019], \"xaxis\": \"x\", \"y\": [545.5221918377006, 546.7286066684431, 618.4873523236167, 645.9510086827721, 701.2207937177221, 774.7857658751254, 870.1755081257802, 936.1125263440347, 1015.711485372841, 1080.0503265851282, 1207.0226242716883, 1288.2391796101517, 1489.850903863926, 1642.1723716887714, 1725.380163610041, 1898.3956818558122, 2080.1108321322727, 2249.2534828789967, 2367.067994987135, 2454.4328208755664, 2525.24762352629], \"yaxis\": \"y\"}, {\"hoverlabel\": {\"namelength\": 0}, \"hovertemplate\": \"sigla_uf=SP<br>ano=%{x}<br>media_remuneracao=%{y}\", \"legendgroup\": \"sigla_uf=SP\", \"line\": {\"color\": \"#FF97FF\", \"dash\": \"solid\"}, \"mode\": \"lines\", \"name\": \"sigla_uf=SP\", \"showlegend\": true, \"type\": \"scatter\", \"x\": [1999, 2000, 2001, 2002, 2003, 2004, 2005, 2006, 2007, 2008, 2009, 2010, 2011, 2012, 2013, 2014, 2015, 2016, 2017, 2018, 2019], \"xaxis\": \"x\", \"y\": [827.5433688989183, 865.091209420861, 952.3924966018639, 994.2853550029461, 1065.6999347438516, 1149.19434490343, 1209.4463176532613, 1283.8658751927576, 1330.6197884196963, 1428.9147919615837, 1550.3020813910578, 1625.3984910904992, 1766.5623464802186, 1926.93036827698, 2092.570938141424, 2262.993927565821, 2479.083359632519, 2700.6920146565913, 2879.323005871273, 2944.3276804123684, 2963.7804112040276], \"yaxis\": \"y\"}, {\"hoverlabel\": {\"namelength\": 0}, \"hovertemplate\": \"sigla_uf=SE<br>ano=%{x}<br>media_remuneracao=%{y}\", \"legendgroup\": \"sigla_uf=SE\", \"line\": {\"color\": \"#FECB52\", \"dash\": \"solid\"}, \"mode\": \"lines\", \"name\": \"sigla_uf=SE\", \"showlegend\": true, \"type\": \"scatter\", \"x\": [1999, 2000, 2001, 2002, 2003, 2004, 2005, 2006, 2007, 2008, 2009, 2010, 2011, 2012, 2013, 2014, 2015, 2016, 2017, 2018, 2019], \"xaxis\": \"x\", \"y\": [486.66294812938355, 515.6500666659292, 570.1757106767226, 609.0749302370828, 658.5240709733621, 754.698217244139, 840.2500380963007, 958.2758836072284, 1022.54349094565, 1150.309019326049, 1220.4914373767135, 1388.0128734988198, 1448.9128802688253, 1598.8003149672352, 1714.0478857457795, 1815.9829210575904, 1917.275305638019, 2112.4334629250143, 2272.6252838028704, 2349.5451245063346, 2374.036218008342], \"yaxis\": \"y\"}, {\"hoverlabel\": {\"namelength\": 0}, \"hovertemplate\": \"sigla_uf=RJ<br>ano=%{x}<br>media_remuneracao=%{y}\", \"legendgroup\": \"sigla_uf=RJ\", \"line\": {\"color\": \"#636efa\", \"dash\": \"solid\"}, \"mode\": \"lines\", \"name\": \"sigla_uf=RJ\", \"showlegend\": true, \"type\": \"scatter\", \"x\": [1999, 2000, 2001, 2002, 2003, 2004, 2005, 2006, 2007, 2008, 2009, 2010, 2011, 2012, 2013, 2014, 2015, 2016, 2017, 2018, 2019], \"xaxis\": \"x\", \"y\": [726.4250909787318, 774.7627450461439, 864.8340418482941, 941.1540951029721, 1019.8217255993177, 1099.6181848840238, 1174.3246094531337, 1240.813027117979, 1320.119065356402, 1440.647888328971, 1561.2628395428085, 1648.8376621382688, 1795.2255636871948, 1972.4983502495354, 2214.23516600587, 2379.8796704532156, 2575.7779946742608, 2777.453631708953, 2940.8721393795045, 3024.929709813687, 3041.662868347309], \"yaxis\": \"y\"}, {\"hoverlabel\": {\"namelength\": 0}, \"hovertemplate\": \"sigla_uf=MT<br>ano=%{x}<br>media_remuneracao=%{y}\", \"legendgroup\": \"sigla_uf=MT\", \"line\": {\"color\": \"#EF553B\", \"dash\": \"solid\"}, \"mode\": \"lines\", \"name\": \"sigla_uf=MT\", \"showlegend\": true, \"type\": \"scatter\", \"x\": [1999, 2000, 2001, 2002, 2003, 2004, 2005, 2006, 2007, 2008, 2009, 2010, 2011, 2012, 2013, 2014, 2015, 2016, 2017, 2018, 2019], \"xaxis\": \"x\", \"y\": [528.5229468879941, 545.3924551457887, 585.5954774462738, 627.7192917725821, 693.6249163439794, 781.1317604981197, 827.1352272264094, 927.9430854034892, 986.268490093061, 1043.0495129778633, 1132.5134903467765, 1243.1116635887038, 1349.1770507512922, 1509.6700953650334, 1656.0114666130194, 1802.8647618672646, 1989.4379306165795, 2216.281186828028, 2368.6322688134333, 2441.8095062443704, 2473.5131525360016], \"yaxis\": \"y\"}, {\"hoverlabel\": {\"namelength\": 0}, \"hovertemplate\": \"sigla_uf=PI<br>ano=%{x}<br>media_remuneracao=%{y}\", \"legendgroup\": \"sigla_uf=PI\", \"line\": {\"color\": \"#00cc96\", \"dash\": \"solid\"}, \"mode\": \"lines\", \"name\": \"sigla_uf=PI\", \"showlegend\": true, \"type\": \"scatter\", \"x\": [1999, 2000, 2001, 2002, 2003, 2004, 2005, 2006, 2007, 2008, 2009, 2010, 2011, 2012, 2013, 2014, 2015, 2016, 2017, 2018, 2019], \"xaxis\": \"x\", \"y\": [420.0937586159642, 437.8371596472161, 476.19969923460934, 506.68502747767394, 574.288909438278, 653.1182291190826, 700.8960894908847, 803.6806014812059, 868.1405436683276, 956.5011226332947, 1060.9284268617541, 1131.9248631185887, 1238.905394553824, 1367.8564579172073, 1496.4394848845845, 1629.6783826442106, 1771.1690942302737, 1988.3038510526392, 2119.7145324706757, 2184.1412020884136, 2211.358441524399], \"yaxis\": \"y\"}, {\"hoverlabel\": {\"namelength\": 0}, \"hovertemplate\": \"sigla_uf=MG<br>ano=%{x}<br>media_remuneracao=%{y}\", \"legendgroup\": \"sigla_uf=MG\", \"line\": {\"color\": \"#ab63fa\", \"dash\": \"solid\"}, \"mode\": \"lines\", \"name\": \"sigla_uf=MG\", \"showlegend\": true, \"type\": \"scatter\", \"x\": [1999, 2000, 2001, 2002, 2003, 2004, 2005, 2006, 2007, 2008, 2009, 2010, 2011, 2012, 2013, 2014, 2015, 2016, 2017, 2018, 2019], \"xaxis\": \"x\", \"y\": [513.9246688647947, 544.7436581017123, 602.1314613882815, 628.4252958568143, 688.2209618449359, 747.5643689780109, 798.3615894404389, 865.6574615774456, 929.3900525595999, 1012.9553123946697, 1109.5181608761475, 1195.6443694374454, 1316.224829582819, 1456.846366752653, 1586.6969843847533, 1713.39174075722, 1883.3990807441123, 2045.3890880300594, 2186.9927241675236, 2214.3767298998887, 2234.6868787318963], \"yaxis\": \"y\"}, {\"hoverlabel\": {\"namelength\": 0}, \"hovertemplate\": \"sigla_uf=DF<br>ano=%{x}<br>media_remuneracao=%{y}\", \"legendgroup\": \"sigla_uf=DF\", \"line\": {\"color\": \"#FFA15A\", \"dash\": \"solid\"}, \"mode\": \"lines\", \"name\": \"sigla_uf=DF\", \"showlegend\": true, \"type\": \"scatter\", \"x\": [1999, 2000, 2001, 2002, 2003, 2004, 2005, 2006, 2007, 2008, 2009, 2010, 2011, 2012, 2013, 2014, 2015, 2016, 2017, 2018, 2019], \"xaxis\": \"x\", \"y\": [1105.1407628067122, 1176.958357782076, 1314.0435138674777, 1469.6341944336525, 1595.9209176739466, 1726.8588919496917, 1881.42090454073, 2131.1873238113108, 2265.0130247842676, 2454.001689617642, 2615.9296709395167, 2736.5794468802133, 2870.214908782532, 3034.8592252461926, 3210.746075942419, 3389.2226520337576, 3852.841620456871, 4098.211567756562, 4465.278023535361, 4546.316594175411, 4584.94580665859], \"yaxis\": \"y\"}, {\"hoverlabel\": {\"namelength\": 0}, \"hovertemplate\": \"sigla_uf=AC<br>ano=%{x}<br>media_remuneracao=%{y}\", \"legendgroup\": \"sigla_uf=AC\", \"line\": {\"color\": \"#19d3f3\", \"dash\": \"solid\"}, \"mode\": \"lines\", \"name\": \"sigla_uf=AC\", \"showlegend\": true, \"type\": \"scatter\", \"x\": [1999, 2000, 2001, 2002, 2003, 2004, 2005, 2006, 2007, 2008, 2009, 2010, 2011, 2012, 2013, 2014, 2015, 2016, 2017, 2018, 2019], \"xaxis\": \"x\", \"y\": [605.5506475826102, 646.6064855586694, 727.0308882111232, 804.998954440144, 830.4423690416706, 880.4566962734277, 951.4917358004445, 1066.3776123642117, 1182.1584617507706, 1241.9126656588023, 1322.6570817293953, 1438.2115255198883, 1541.8680301377449, 1714.4499156267962, 1832.0409848280794, 1992.6223777165094, 2122.0034842308633, 2274.5484113968614, 2439.527097678201, 2610.4157283156446, 2448.7519689759856], \"yaxis\": \"y\"}, {\"hoverlabel\": {\"namelength\": 0}, \"hovertemplate\": \"sigla_uf=PR<br>ano=%{x}<br>media_remuneracao=%{y}\", \"legendgroup\": \"sigla_uf=PR\", \"line\": {\"color\": \"#FF6692\", \"dash\": \"solid\"}, \"mode\": \"lines\", \"name\": \"sigla_uf=PR\", \"showlegend\": true, \"type\": \"scatter\", \"x\": [1999, 2000, 2001, 2002, 2003, 2004, 2005, 2006, 2007, 2008, 2009, 2010, 2011, 2012, 2013, 2014, 2015, 2016, 2017, 2018, 2019], \"xaxis\": \"x\", \"y\": [578.6133347224289, 605.3802799226983, 658.9688409621078, 679.631374456573, 748.6453754551964, 820.8408269720206, 878.7469754702531, 951.366181557558, 1012.2707465912495, 1077.6759055055704, 1182.3945814726533, 1275.9719543239337, 1405.8475960381318, 1554.1280922308686, 1705.5605869661504, 1856.3616147638234, 2041.6126593358367, 2264.686307033004, 2412.2255480116673, 2451.88172077084, 2467.798314356888], \"yaxis\": \"y\"}],\n",
              "                        {\"legend\": {\"tracegroupgap\": 0}, \"margin\": {\"t\": 60}, \"template\": {\"data\": {\"bar\": [{\"error_x\": {\"color\": \"#2a3f5f\"}, \"error_y\": {\"color\": \"#2a3f5f\"}, \"marker\": {\"line\": {\"color\": \"#E5ECF6\", \"width\": 0.5}}, \"type\": \"bar\"}], \"barpolar\": [{\"marker\": {\"line\": {\"color\": \"#E5ECF6\", \"width\": 0.5}}, \"type\": \"barpolar\"}], \"carpet\": [{\"aaxis\": {\"endlinecolor\": \"#2a3f5f\", \"gridcolor\": \"white\", \"linecolor\": \"white\", \"minorgridcolor\": \"white\", \"startlinecolor\": \"#2a3f5f\"}, \"baxis\": {\"endlinecolor\": \"#2a3f5f\", \"gridcolor\": \"white\", \"linecolor\": \"white\", \"minorgridcolor\": \"white\", \"startlinecolor\": \"#2a3f5f\"}, \"type\": \"carpet\"}], \"choropleth\": [{\"colorbar\": {\"outlinewidth\": 0, \"ticks\": \"\"}, \"type\": \"choropleth\"}], \"contour\": [{\"colorbar\": {\"outlinewidth\": 0, \"ticks\": \"\"}, \"colorscale\": [[0.0, \"#0d0887\"], [0.1111111111111111, \"#46039f\"], [0.2222222222222222, \"#7201a8\"], [0.3333333333333333, \"#9c179e\"], [0.4444444444444444, \"#bd3786\"], [0.5555555555555556, \"#d8576b\"], [0.6666666666666666, \"#ed7953\"], [0.7777777777777778, \"#fb9f3a\"], [0.8888888888888888, \"#fdca26\"], [1.0, \"#f0f921\"]], \"type\": \"contour\"}], \"contourcarpet\": [{\"colorbar\": {\"outlinewidth\": 0, \"ticks\": \"\"}, \"type\": \"contourcarpet\"}], \"heatmap\": [{\"colorbar\": {\"outlinewidth\": 0, \"ticks\": \"\"}, \"colorscale\": [[0.0, \"#0d0887\"], [0.1111111111111111, \"#46039f\"], [0.2222222222222222, \"#7201a8\"], [0.3333333333333333, \"#9c179e\"], [0.4444444444444444, \"#bd3786\"], [0.5555555555555556, \"#d8576b\"], [0.6666666666666666, \"#ed7953\"], [0.7777777777777778, \"#fb9f3a\"], [0.8888888888888888, \"#fdca26\"], [1.0, \"#f0f921\"]], \"type\": \"heatmap\"}], \"heatmapgl\": [{\"colorbar\": {\"outlinewidth\": 0, \"ticks\": \"\"}, \"colorscale\": [[0.0, \"#0d0887\"], [0.1111111111111111, \"#46039f\"], [0.2222222222222222, \"#7201a8\"], [0.3333333333333333, \"#9c179e\"], [0.4444444444444444, \"#bd3786\"], [0.5555555555555556, \"#d8576b\"], [0.6666666666666666, \"#ed7953\"], [0.7777777777777778, \"#fb9f3a\"], [0.8888888888888888, \"#fdca26\"], [1.0, \"#f0f921\"]], \"type\": \"heatmapgl\"}], \"histogram\": [{\"marker\": {\"colorbar\": {\"outlinewidth\": 0, \"ticks\": \"\"}}, \"type\": \"histogram\"}], \"histogram2d\": [{\"colorbar\": {\"outlinewidth\": 0, \"ticks\": \"\"}, \"colorscale\": [[0.0, \"#0d0887\"], [0.1111111111111111, \"#46039f\"], [0.2222222222222222, \"#7201a8\"], [0.3333333333333333, \"#9c179e\"], [0.4444444444444444, \"#bd3786\"], [0.5555555555555556, \"#d8576b\"], [0.6666666666666666, \"#ed7953\"], [0.7777777777777778, \"#fb9f3a\"], [0.8888888888888888, \"#fdca26\"], [1.0, \"#f0f921\"]], \"type\": \"histogram2d\"}], \"histogram2dcontour\": [{\"colorbar\": {\"outlinewidth\": 0, \"ticks\": \"\"}, \"colorscale\": [[0.0, \"#0d0887\"], [0.1111111111111111, \"#46039f\"], [0.2222222222222222, \"#7201a8\"], [0.3333333333333333, \"#9c179e\"], [0.4444444444444444, \"#bd3786\"], [0.5555555555555556, \"#d8576b\"], [0.6666666666666666, \"#ed7953\"], [0.7777777777777778, \"#fb9f3a\"], [0.8888888888888888, \"#fdca26\"], [1.0, \"#f0f921\"]], \"type\": \"histogram2dcontour\"}], \"mesh3d\": [{\"colorbar\": {\"outlinewidth\": 0, \"ticks\": \"\"}, \"type\": \"mesh3d\"}], \"parcoords\": [{\"line\": {\"colorbar\": {\"outlinewidth\": 0, \"ticks\": \"\"}}, \"type\": \"parcoords\"}], \"pie\": [{\"automargin\": true, \"type\": \"pie\"}], \"scatter\": [{\"marker\": {\"colorbar\": {\"outlinewidth\": 0, \"ticks\": \"\"}}, \"type\": \"scatter\"}], \"scatter3d\": [{\"line\": {\"colorbar\": {\"outlinewidth\": 0, \"ticks\": \"\"}}, \"marker\": {\"colorbar\": {\"outlinewidth\": 0, \"ticks\": \"\"}}, \"type\": \"scatter3d\"}], \"scattercarpet\": [{\"marker\": {\"colorbar\": {\"outlinewidth\": 0, \"ticks\": \"\"}}, \"type\": \"scattercarpet\"}], \"scattergeo\": [{\"marker\": {\"colorbar\": {\"outlinewidth\": 0, \"ticks\": \"\"}}, \"type\": \"scattergeo\"}], \"scattergl\": [{\"marker\": {\"colorbar\": {\"outlinewidth\": 0, \"ticks\": \"\"}}, \"type\": \"scattergl\"}], \"scattermapbox\": [{\"marker\": {\"colorbar\": {\"outlinewidth\": 0, \"ticks\": \"\"}}, \"type\": \"scattermapbox\"}], \"scatterpolar\": [{\"marker\": {\"colorbar\": {\"outlinewidth\": 0, \"ticks\": \"\"}}, \"type\": \"scatterpolar\"}], \"scatterpolargl\": [{\"marker\": {\"colorbar\": {\"outlinewidth\": 0, \"ticks\": \"\"}}, \"type\": \"scatterpolargl\"}], \"scatterternary\": [{\"marker\": {\"colorbar\": {\"outlinewidth\": 0, \"ticks\": \"\"}}, \"type\": \"scatterternary\"}], \"surface\": [{\"colorbar\": {\"outlinewidth\": 0, \"ticks\": \"\"}, \"colorscale\": [[0.0, \"#0d0887\"], [0.1111111111111111, \"#46039f\"], [0.2222222222222222, \"#7201a8\"], [0.3333333333333333, \"#9c179e\"], [0.4444444444444444, \"#bd3786\"], [0.5555555555555556, \"#d8576b\"], [0.6666666666666666, \"#ed7953\"], [0.7777777777777778, \"#fb9f3a\"], [0.8888888888888888, \"#fdca26\"], [1.0, \"#f0f921\"]], \"type\": \"surface\"}], \"table\": [{\"cells\": {\"fill\": {\"color\": \"#EBF0F8\"}, \"line\": {\"color\": \"white\"}}, \"header\": {\"fill\": {\"color\": \"#C8D4E3\"}, \"line\": {\"color\": \"white\"}}, \"type\": \"table\"}]}, \"layout\": {\"annotationdefaults\": {\"arrowcolor\": \"#2a3f5f\", \"arrowhead\": 0, \"arrowwidth\": 1}, \"coloraxis\": {\"colorbar\": {\"outlinewidth\": 0, \"ticks\": \"\"}}, \"colorscale\": {\"diverging\": [[0, \"#8e0152\"], [0.1, \"#c51b7d\"], [0.2, \"#de77ae\"], [0.3, \"#f1b6da\"], [0.4, \"#fde0ef\"], [0.5, \"#f7f7f7\"], [0.6, \"#e6f5d0\"], [0.7, \"#b8e186\"], [0.8, \"#7fbc41\"], [0.9, \"#4d9221\"], [1, \"#276419\"]], \"sequential\": [[0.0, \"#0d0887\"], [0.1111111111111111, \"#46039f\"], [0.2222222222222222, \"#7201a8\"], [0.3333333333333333, \"#9c179e\"], [0.4444444444444444, \"#bd3786\"], [0.5555555555555556, \"#d8576b\"], [0.6666666666666666, \"#ed7953\"], [0.7777777777777778, \"#fb9f3a\"], [0.8888888888888888, \"#fdca26\"], [1.0, \"#f0f921\"]], \"sequentialminus\": [[0.0, \"#0d0887\"], [0.1111111111111111, \"#46039f\"], [0.2222222222222222, \"#7201a8\"], [0.3333333333333333, \"#9c179e\"], [0.4444444444444444, \"#bd3786\"], [0.5555555555555556, \"#d8576b\"], [0.6666666666666666, \"#ed7953\"], [0.7777777777777778, \"#fb9f3a\"], [0.8888888888888888, \"#fdca26\"], [1.0, \"#f0f921\"]]}, \"colorway\": [\"#636efa\", \"#EF553B\", \"#00cc96\", \"#ab63fa\", \"#FFA15A\", \"#19d3f3\", \"#FF6692\", \"#B6E880\", \"#FF97FF\", \"#FECB52\"], \"font\": {\"color\": \"#2a3f5f\"}, \"geo\": {\"bgcolor\": \"white\", \"lakecolor\": \"white\", \"landcolor\": \"#E5ECF6\", \"showlakes\": true, \"showland\": true, \"subunitcolor\": \"white\"}, \"hoverlabel\": {\"align\": \"left\"}, \"hovermode\": \"closest\", \"mapbox\": {\"style\": \"light\"}, \"paper_bgcolor\": \"white\", \"plot_bgcolor\": \"#E5ECF6\", \"polar\": {\"angularaxis\": {\"gridcolor\": \"white\", \"linecolor\": \"white\", \"ticks\": \"\"}, \"bgcolor\": \"#E5ECF6\", \"radialaxis\": {\"gridcolor\": \"white\", \"linecolor\": \"white\", \"ticks\": \"\"}}, \"scene\": {\"xaxis\": {\"backgroundcolor\": \"#E5ECF6\", \"gridcolor\": \"white\", \"gridwidth\": 2, \"linecolor\": \"white\", \"showbackground\": true, \"ticks\": \"\", \"zerolinecolor\": \"white\"}, \"yaxis\": {\"backgroundcolor\": \"#E5ECF6\", \"gridcolor\": \"white\", \"gridwidth\": 2, \"linecolor\": \"white\", \"showbackground\": true, \"ticks\": \"\", \"zerolinecolor\": \"white\"}, \"zaxis\": {\"backgroundcolor\": \"#E5ECF6\", \"gridcolor\": \"white\", \"gridwidth\": 2, \"linecolor\": \"white\", \"showbackground\": true, \"ticks\": \"\", \"zerolinecolor\": \"white\"}}, \"shapedefaults\": {\"line\": {\"color\": \"#2a3f5f\"}}, \"ternary\": {\"aaxis\": {\"gridcolor\": \"white\", \"linecolor\": \"white\", \"ticks\": \"\"}, \"baxis\": {\"gridcolor\": \"white\", \"linecolor\": \"white\", \"ticks\": \"\"}, \"bgcolor\": \"#E5ECF6\", \"caxis\": {\"gridcolor\": \"white\", \"linecolor\": \"white\", \"ticks\": \"\"}}, \"title\": {\"x\": 0.05}, \"xaxis\": {\"automargin\": true, \"gridcolor\": \"white\", \"linecolor\": \"white\", \"ticks\": \"\", \"title\": {\"standoff\": 15}, \"zerolinecolor\": \"white\", \"zerolinewidth\": 2}, \"yaxis\": {\"automargin\": true, \"gridcolor\": \"white\", \"linecolor\": \"white\", \"ticks\": \"\", \"title\": {\"standoff\": 15}, \"zerolinecolor\": \"white\", \"zerolinewidth\": 2}}}, \"xaxis\": {\"anchor\": \"y\", \"domain\": [0.0, 1.0], \"title\": {\"text\": \"ano\"}}, \"yaxis\": {\"anchor\": \"x\", \"domain\": [0.0, 1.0], \"title\": {\"text\": \"media_remuneracao\"}}},\n",
              "                        {\"responsive\": true}\n",
              "                    ).then(function(){\n",
              "                            \n",
              "var gd = document.getElementById('e0152440-7e27-46ee-a8d4-e6b95089b8f1');\n",
              "var x = new MutationObserver(function (mutations, observer) {{\n",
              "        var display = window.getComputedStyle(gd).display;\n",
              "        if (!display || display === 'none') {{\n",
              "            console.log([gd, 'removed!']);\n",
              "            Plotly.purge(gd);\n",
              "            observer.disconnect();\n",
              "        }}\n",
              "}});\n",
              "\n",
              "// Listen for the removal of the full notebook cells\n",
              "var notebookContainer = gd.closest('#notebook-container');\n",
              "if (notebookContainer) {{\n",
              "    x.observe(notebookContainer, {childList: true});\n",
              "}}\n",
              "\n",
              "// Listen for the clearing of the current output cell\n",
              "var outputEl = gd.closest('.output');\n",
              "if (outputEl) {{\n",
              "    x.observe(outputEl, {childList: true});\n",
              "}}\n",
              "\n",
              "                        })\n",
              "                };\n",
              "                \n",
              "            </script>\n",
              "        </div>\n",
              "</body>\n",
              "</html>"
            ]
          },
          "metadata": {}
        }
      ]
    },
    {
      "cell_type": "code",
      "metadata": {
        "id": "GStOOr2oiZVY"
      },
      "source": [
        ""
      ],
      "execution_count": null,
      "outputs": []
    }
  ]
}